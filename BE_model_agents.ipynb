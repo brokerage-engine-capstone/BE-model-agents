{
 "cells": [
  {
   "cell_type": "markdown",
   "metadata": {},
   "source": [
    "# B.E. Model Agents\n",
    "**By Steven, Orion, Jason, and Michael**"
   ]
  },
  {
   "cell_type": "markdown",
   "metadata": {
    "toc": true
   },
   "source": [
    "<h1>Table of Contents<span class=\"tocSkip\"></span></h1>\n",
    "<div class=\"toc\"><ul class=\"toc-item\"><li><span><a href=\"#Data-Dictionary\" data-toc-modified-id=\"Data-Dictionary-1\">Data Dictionary</a></span></li><li><span><a href=\"#Environment\" data-toc-modified-id=\"Environment-2\">Environment</a></span></li><li><span><a href=\"#Acquisition\" data-toc-modified-id=\"Acquisition-3\">Acquisition</a></span></li><li><span><a href=\"#Preparation\" data-toc-modified-id=\"Preparation-4\">Preparation</a></span><ul class=\"toc-item\"><li><span><a href=\"#Rename-and-Drop-Columns\" data-toc-modified-id=\"Rename-and-Drop-Columns-4.1\">Rename and Drop Columns</a></span><ul class=\"toc-item\"><li><span><a href=\"#Lowercase-all-column-names\" data-toc-modified-id=\"Lowercase-all-column-names-4.1.1\">Lowercase all column names</a></span></li><li><span><a href=\"#Drop-Columns\" data-toc-modified-id=\"Drop-Columns-4.1.2\">Drop Columns</a></span></li><li><span><a href=\"#Rename-Columns\" data-toc-modified-id=\"Rename-Columns-4.1.3\">Rename Columns</a></span></li></ul></li><li><span><a href=\"#Rename-Variable-Values\" data-toc-modified-id=\"Rename-Variable-Values-4.2\">Rename Variable Values</a></span><ul class=\"toc-item\"><li><span><a href=\"#Transaction-Side\" data-toc-modified-id=\"Transaction-Side-4.2.1\">Transaction Side</a></span></li></ul></li><li><span><a href=\"#Filter\" data-toc-modified-id=\"Filter-4.3\">Filter</a></span><ul class=\"toc-item\"><li><span><a href=\"#Select-Finished-Transactions\" data-toc-modified-id=\"Select-Finished-Transactions-4.3.1\">Select Finished Transactions</a></span></li><li><span><a href=\"#Drop-Outliers\" data-toc-modified-id=\"Drop-Outliers-4.3.2\">Drop Outliers</a></span></li></ul></li><li><span><a href=\"#Encode-Columns\" data-toc-modified-id=\"Encode-Columns-4.4\">Encode Columns</a></span><ul class=\"toc-item\"><li><span><a href=\"#Various-ID-fields\" data-toc-modified-id=\"Various-ID-fields-4.4.1\">Various ID fields</a></span></li></ul></li><li><span><a href=\"#Dates\" data-toc-modified-id=\"Dates-4.5\">Dates</a></span><ul class=\"toc-item\"><li><span><a href=\"#Correcting-dates\" data-toc-modified-id=\"Correcting-dates-4.5.1\">Correcting dates</a></span></li><li><span><a href=\"#Convert-dates-to-datetime-type\" data-toc-modified-id=\"Convert-dates-to-datetime-type-4.5.2\">Convert dates to datetime type</a></span></li><li><span><a href=\"#Add-columns-for-year-and-quarter-of-sale\" data-toc-modified-id=\"Add-columns-for-year-and-quarter-of-sale-4.5.3\">Add columns for year and quarter of sale</a></span></li></ul></li><li><span><a href=\"#Location\" data-toc-modified-id=\"Location-4.6\">Location</a></span></li><li><span><a href=\"#Brokerage-34's-Texas-Transactions-Filter\" data-toc-modified-id=\"Brokerage-34's-Texas-Transactions-Filter-4.7\">Brokerage 34's Texas Transactions Filter</a></span></li><li><span><a href=\"#Add-in-ZIP-codes-and-Lat/Long\" data-toc-modified-id=\"Add-in-ZIP-codes-and-Lat/Long-4.8\">Add in ZIP codes and Lat/Long</a></span></li><li><span><a href=\"#Exclude-Jan-2018-data\" data-toc-modified-id=\"Exclude-Jan-2018-data-4.9\">Exclude Jan 2018 data</a></span></li><li><span><a href=\"#Remove-low-dollar-transactions\" data-toc-modified-id=\"Remove-low-dollar-transactions-4.10\">Remove low-dollar transactions</a></span></li><li><span><a href=\"#Impute\" data-toc-modified-id=\"Impute-4.11\">Impute</a></span><ul class=\"toc-item\"><li><span><a href=\"#Impute-the-gross-commission-from-the-average-commission-rate\" data-toc-modified-id=\"Impute-the-gross-commission-from-the-average-commission-rate-4.11.1\">Impute the gross commission from the average commission rate</a></span></li><li><span><a href=\"#Impute-commissions-for-agents-and-brokerages\" data-toc-modified-id=\"Impute-commissions-for-agents-and-brokerages-4.11.2\">Impute commissions for agents and brokerages</a></span></li></ul></li><li><span><a href=\"#Create-Derivative-Dataframes\" data-toc-modified-id=\"Create-Derivative-Dataframes-4.12\">Create Derivative Dataframes</a></span><ul class=\"toc-item\"><li><span><a href=\"#2018-Dataframe\" data-toc-modified-id=\"2018-Dataframe-4.12.1\">2018 Dataframe</a></span></li><li><span><a href=\"#Agent-Dataframe\" data-toc-modified-id=\"Agent-Dataframe-4.12.2\">Agent Dataframe</a></span></li></ul></li><li><span><a href=\"#Data-Sanity/Validation-Checks\" data-toc-modified-id=\"Data-Sanity/Validation-Checks-4.13\">Data Sanity/Validation Checks</a></span></li></ul></li><li><span><a href=\"#Exploration\" data-toc-modified-id=\"Exploration-5\">Exploration</a></span><ul class=\"toc-item\"><li><span><a href=\"#Summary-Stats\" data-toc-modified-id=\"Summary-Stats-5.1\">Summary Stats</a></span></li><li><span><a href=\"#By-Agent\" data-toc-modified-id=\"By-Agent-5.2\">By Agent</a></span><ul class=\"toc-item\"><li><span><a href=\"#By-Quintile\" data-toc-modified-id=\"By-Quintile-5.2.1\">By Quintile</a></span></li></ul></li><li><span><a href=\"#Sale-Price/Commission\" data-toc-modified-id=\"Sale-Price/Commission-5.3\">Sale Price/Commission</a></span></li><li><span><a href=\"#Feature-Engineering\" data-toc-modified-id=\"Feature-Engineering-5.4\">Feature Engineering</a></span><ul class=\"toc-item\"><li><span><a href=\"#Commission-Strategy\" data-toc-modified-id=\"Commission-Strategy-5.4.1\">Commission Strategy</a></span></li><li><span><a href=\"#Add-number-of-ZIP-codes-each-agent-sells-in\" data-toc-modified-id=\"Add-number-of-ZIP-codes-each-agent-sells-in-5.4.2\">Add number of ZIP codes each agent sells in</a></span></li><li><span><a href=\"#Year-over-year-difference-in-total-sales\" data-toc-modified-id=\"Year-over-year-difference-in-total-sales-5.4.3\">Year over year difference in total sales</a></span></li><li><span><a href=\"#Calculate-High-Performance-Threshold-for-Feb---May-2019\" data-toc-modified-id=\"Calculate-High-Performance-Threshold-for-Feb---May-2019-5.4.4\">Calculate High Performance Threshold for Feb - May 2019</a></span></li><li><span><a href=\"#Unique-ZIP-Codes-per-Agent\" data-toc-modified-id=\"Unique-ZIP-Codes-per-Agent-5.4.5\">Unique ZIP Codes per Agent</a></span></li><li><span><a href=\"#Agent-cut-v.-Brokerage-cut\" data-toc-modified-id=\"Agent-cut-v.-Brokerage-cut-5.4.6\">Agent cut v. Brokerage cut</a></span></li><li><span><a href=\"#Number-of-Top-ZIP-Codes-in-Agent's-Market\" data-toc-modified-id=\"Number-of-Top-ZIP-Codes-in-Agent's-Market-5.4.7\">Number of Top ZIP Codes in Agent's Market</a></span></li></ul></li><li><span><a href=\"#Proceeds\" data-toc-modified-id=\"Proceeds-5.5\">Proceeds</a></span></li><li><span><a href=\"#Statistical-Tests\" data-toc-modified-id=\"Statistical-Tests-5.6\">Statistical Tests</a></span></li></ul></li><li><span><a href=\"#Modeling\" data-toc-modified-id=\"Modeling-6\">Modeling</a></span><ul class=\"toc-item\"><li><span><a href=\"#Encoding-Columns\" data-toc-modified-id=\"Encoding-Columns-6.1\">Encoding Columns</a></span></li><li><span><a href=\"#Feature-Selection\" data-toc-modified-id=\"Feature-Selection-6.2\">Feature Selection</a></span></li><li><span><a href=\"#Train-Test-Split\" data-toc-modified-id=\"Train-Test-Split-6.3\">Train Test Split</a></span></li><li><span><a href=\"#Scale\" data-toc-modified-id=\"Scale-6.4\">Scale</a></span></li><li><span><a href=\"#Cross-Validation\" data-toc-modified-id=\"Cross-Validation-6.5\">Cross Validation</a></span><ul class=\"toc-item\"><li><span><a href=\"#Logistic-Regression\" data-toc-modified-id=\"Logistic-Regression-6.5.1\">Logistic Regression</a></span></li><li><span><a href=\"#Decision-Tree\" data-toc-modified-id=\"Decision-Tree-6.5.2\">Decision Tree</a></span></li><li><span><a href=\"#Visualize-Model\" data-toc-modified-id=\"Visualize-Model-6.5.3\">Visualize Model</a></span></li><li><span><a href=\"#Random-Forest\" data-toc-modified-id=\"Random-Forest-6.5.4\">Random Forest</a></span></li><li><span><a href=\"#KNN\" data-toc-modified-id=\"KNN-6.5.5\">KNN</a></span></li></ul></li><li><span><a href=\"#Grid-Search\" data-toc-modified-id=\"Grid-Search-6.6\">Grid Search</a></span><ul class=\"toc-item\"><li><span><a href=\"#Logistic-Regression\" data-toc-modified-id=\"Logistic-Regression-6.6.1\">Logistic Regression</a></span></li><li><span><a href=\"#Decision-Tree\" data-toc-modified-id=\"Decision-Tree-6.6.2\">Decision Tree</a></span></li><li><span><a href=\"#Random-Forest\" data-toc-modified-id=\"Random-Forest-6.6.3\">Random Forest</a></span></li></ul></li><li><span><a href=\"#Final-Model\" data-toc-modified-id=\"Final-Model-6.7\">Final Model</a></span><ul class=\"toc-item\"><li><span><a href=\"#Pickle-Model-for-Web-App\" data-toc-modified-id=\"Pickle-Model-for-Web-App-6.7.1\">Pickle Model for Web App</a></span></li><li><span><a href=\"#Test-Pickled-Model\" data-toc-modified-id=\"Test-Pickled-Model-6.7.2\">Test Pickled Model</a></span></li></ul></li></ul></li></ul></div>"
   ]
  },
  {
   "cell_type": "markdown",
   "metadata": {},
   "source": [
    "## Data Dictionary"
   ]
  },
  {
   "cell_type": "markdown",
   "metadata": {},
   "source": [
    "- **agent_id** -> unique identifier for each agent\n",
    "- **agent_name** -> bogus name for anonymity reasons\n",
    "- **commission_anniversary** -> when the time comes to renegotiate the agent's split rate\n",
    "- **account_id** -> unique identifier of parent company\n",
    "- **brokerage_id** -> unique identifier for a subunit of a parent company (i.e., each brokerage_id is a subunit of account_id). A brokerage is a subunit of an agency.\n",
    "- **brokerage_name** -> bogus name for anonymity reasons\n",
    "- **commission_schedule_id** -> unique identifier for a commission schedule\n",
    "- **commission_schedule_effective_start_at** -> when the commission schedule starts\n",
    "- **commission_schedule_effective_end_at** -> when the commission schedule ends\n",
    "- **commission_schedule_active** -> whether the commmission schedule is active or not\n",
    "- **commission_schedule_strategy/com_plan** -> how the commission is calculated\n",
    "    - Mapping of encoder:\n",
    "        - 0: Accumulation Strategy\n",
    "        - 1: Flat Rate Strategy\n",
    "        - 2: Rolling Accumulation Strategy\n",
    "- **transaction_id/trans_id** -> a unique identifier for the transaction\n",
    "- **transaction_number** -> BT 'year' 'month' 'day' 'transaction_count'\n",
    "\t- unique to a single account, use transaction_id\n",
    "- **transaction_contracted_at** -> when the buyers and sellers signed contract to begin transaction\n",
    "- **transaction_closed_at** -> when the transaction was closed\n",
    "- **transaction_effective_at/sale_date** -> an override for when the transaction actually closed (there might be some last minute changes)\n",
    "- **transaction_status/sale_status** -> Open, ~DONT WORRY ABOUT THESE~ ,Cda Sent, Complete, or Fell through\n",
    "- **transaction_sales_amount/sale_amount** ->\n",
    "- **transaction_list_amount** -> set by users (WILL TRY TO PULL FROM LISTING SIDE SYSTEM)\n",
    "- **property_information** -> address of the property\n",
    "- **earned_side_count/com_split** -> a strange representation of how much credit an agent gets for a transaction\n",
    "    - can be split between agents on a side\n",
    "- **earned_volume** -> typically is the same as the sales amount\n",
    "\t- can be split between agents on a side\n",
    "- **tags/property_use** -> usage of the property (i.e., residential)\n",
    "- **transaction_side/trans_side** ->\n",
    "\t- Listing Side -> The agent is representing the seller of the property\n",
    "\t- Selling Side -> The agent is representing the buyer of the property\n",
    "- **transaction_price_override/price_override** ->\n",
    "- **standard_commission_type** -> the regular payout from a transaction\n",
    "- **standard_commission_gci_amount/com_gross** ->\n",
    "\t- the 3% || base value the brokerage took as commission\n",
    "\t- before splitting with agent\n",
    "- **standard_commission_agent_net_amount/com_agent_net** -> how much the agent took home\n",
    "- **standard_commission_brokerage_net_amount/com_brokerage_net** -> how much the brokerage took\n",
    "- **total_fees_charged_against_brokerage** -> the sum total of all the fees charged to the brokerage\n",
    "- **total_fees_charged_against_agent** -> the sum total of all fees charged to the agent; these can be paid by the brokerage\n",
    "- **total_fees_paid_on_transaction** -> $total\\_fees\\_charged\\_against\\_agent + total\\_fees\\_charged\\_against\\_brokerage$\n",
    "- **total_liabilities_against_brokerage** -> the amount the brokerage is liable to pay out to other parties.\n",
    "\t- These parties include the franchise, marketing, vendors, brokerage concessions and many more...\n",
    "- **total_liabilities_against_agent** -> the amount the agent is liable to pay to other parties.\n",
    "- **total_liabilities_on_transaction** -> $total\\_liabilities\\_against\\_brokerage + total\\_liabilities\\_against\\_the\\_agent$\n",
    "- **total_brokerage_income_collected_from_agent_fees** -> $total\\_fees\\_charged\\_against\\_agent - total\\_liabilities\\_against\\_the\\_agent$\n",
    "- **final_brokerage_income_after_all_liabilities_are_paid_out** -> $brokerage\\_net\\_amount + total\\_brokerage\\_income\\_collected\\_from\\_agent\\_fees - total\\_liabilities\\_on\\_transaction$\n",
    "- **bonus_commission_type** -> any extra money paid out\n",
    "- **bonus_commission_agent_net_amount** ->\n",
    "- **bonus_commission_brokerage_net_amount** ->\n",
    "- **listing_transaction_guid** -> used for joining with listing data"
   ]
  },
  {
   "cell_type": "markdown",
   "metadata": {},
   "source": [
    "## Environment "
   ]
  },
  {
   "cell_type": "code",
   "execution_count": 1,
   "metadata": {
    "ExecuteTime": {
     "end_time": "2019-06-12T11:36:33.457898Z",
     "start_time": "2019-06-12T11:36:32.044088Z"
    }
   },
   "outputs": [],
   "source": [
    "from pprint import pprint\n",
    "import operator\n",
    "import pickle\n",
    "import warnings\n",
    "warnings.filterwarnings(\"ignore\")\n",
    "\n",
    "import numpy as np\n",
    "import scipy.stats as stats\n",
    "import pandas as pd\n",
    "\n",
    "# visualization\n",
    "import matplotlib.pyplot as plt\n",
    "import matplotlib as mpl\n",
    "%matplotlib inline\n",
    "import seaborn as sns\n",
    "\n",
    "pd.set_option('display.max_rows', 1000)\n",
    "pd.set_option('display.max_columns', 500)\n",
    "pd.set_option('display.width', 1000)\n",
    "pd.set_option('display.float_format', lambda x: '%.2f' % x)\n",
    "\n",
    "# modeling\n",
    "from sklearn.model_selection import train_test_split\n",
    "from sklearn.linear_model import LogisticRegression\n",
    "from sklearn.ensemble import RandomForestClassifier\n",
    "from sklearn.neighbors import KNeighborsClassifier\n",
    "from sklearn.tree import DecisionTreeClassifier\n",
    "from sklearn.metrics import classification_report\n",
    "from sklearn.metrics import confusion_matrix\n",
    "\n",
    "from sklearn.preprocessing import LabelEncoder\n",
    "from sklearn.preprocessing import MinMaxScaler\n",
    "from sklearn.preprocessing import RobustScaler\n",
    "from sklearn.preprocessing import StandardScaler\n",
    "\n",
    "from sklearn.model_selection import cross_val_score\n",
    "from sklearn.model_selection import GridSearchCV"
   ]
  },
  {
   "cell_type": "markdown",
   "metadata": {},
   "source": [
    "## Acquisition"
   ]
  },
  {
   "cell_type": "code",
   "execution_count": 2,
   "metadata": {
    "ExecuteTime": {
     "end_time": "2019-06-12T11:36:33.698352Z",
     "start_time": "2019-06-12T11:36:33.459861Z"
    }
   },
   "outputs": [
    {
     "name": "stdout",
     "output_type": "stream",
     "text": [
      "Observations: 16882\n",
      "Variables: 41\n"
     ]
    }
   ],
   "source": [
    "df_raw = pd.read_csv('agents_with_transactions.csv')\n",
    "print(f\"Observations: {df_raw.shape[0]}\")\n",
    "print(f\"Variables: {df_raw.shape[1]}\")"
   ]
  },
  {
   "cell_type": "markdown",
   "metadata": {},
   "source": [
    "Preserve raw data"
   ]
  },
  {
   "cell_type": "code",
   "execution_count": 3,
   "metadata": {
    "ExecuteTime": {
     "end_time": "2019-06-12T11:36:33.714345Z",
     "start_time": "2019-06-12T11:36:33.700064Z"
    }
   },
   "outputs": [],
   "source": [
    "df = df_raw.copy()"
   ]
  },
  {
   "cell_type": "markdown",
   "metadata": {},
   "source": [
    "## Preparation"
   ]
  },
  {
   "cell_type": "markdown",
   "metadata": {},
   "source": [
    "### Rename and Drop Columns"
   ]
  },
  {
   "cell_type": "markdown",
   "metadata": {},
   "source": [
    "#### Lowercase all column names"
   ]
  },
  {
   "cell_type": "code",
   "execution_count": 4,
   "metadata": {
    "ExecuteTime": {
     "end_time": "2019-06-12T11:36:33.730498Z",
     "start_time": "2019-06-12T11:36:33.717135Z"
    }
   },
   "outputs": [],
   "source": [
    "df.rename(columns=lambda col: col.lower(), inplace=True)"
   ]
  },
  {
   "cell_type": "markdown",
   "metadata": {},
   "source": [
    "#### Drop Columns"
   ]
  },
  {
   "cell_type": "code",
   "execution_count": 5,
   "metadata": {
    "ExecuteTime": {
     "end_time": "2019-06-12T11:36:33.790850Z",
     "start_time": "2019-06-12T11:36:33.733264Z"
    }
   },
   "outputs": [],
   "source": [
    "# Agent ID provides a unique identifier already.\n",
    "df.drop(columns='agent_name', inplace=True)\n",
    "\n",
    "# Most of the data is missing and it's not clear what value this data provides.\n",
    "df.drop(columns='commission_anniversary', inplace=True)\n",
    "\n",
    "# Brokerage ID provides a unique identifier.\n",
    "df.drop(columns='brokerage_name', inplace=True)\n",
    "\n",
    "# It's not clear what value this data provides; there's 3554 unique schedule id's. Many agents each have more than one commission schedule id.\n",
    "df.drop(columns='commission_schedule_id', inplace=True)\n",
    "\n",
    "# This columns speak to when agents' commission plan starts and ends and is not necessary for our project.\n",
    "df.drop(columns='commission_schedule_effective_start_at', inplace=True)\n",
    "df.drop(columns='commission_schedule_effective_end_at', inplace=True)\n",
    "\n",
    "# Some rows say TRUE when they should be FALSE and this data is not useful since we already know what was received in commissions.\n",
    "df.drop(columns='commission_schedule_active', inplace=True)\n",
    "\n",
    "# This column provides the same information as transaction_id and transaction_effective_at.\n",
    "df.drop(columns='transaction_number', inplace=True)\n",
    "\n",
    "# The column transaction_effective_at provides better information.\n",
    "df.drop(columns='transaction_closed_at', inplace=True)\n",
    "\n",
    "# This column has many NaNs.\n",
    "df.drop(columns='transaction_list_amount', inplace=True)\n",
    "\n",
    "# Unreliable data; we don't know if the value reflects reality.\n",
    "df.drop(columns='earned_side_count', inplace=True)\n",
    "\n",
    "# This columns is almost always the product of earned_sales_amount and transaction_sales_amount.\n",
    "df.drop(columns='earned_volume', inplace=True)\n",
    "\n",
    "# Need more information about the many variations of this.\n",
    "df.drop(columns=\"tags\", inplace=True)\n",
    "\n",
    "# It is either one value or null and is not useful.\n",
    "df.drop(columns='standard_commission_type', inplace=True)\n",
    "\n",
    "# This information is about commission adjustments. We have decided to keep this after all.\n",
    "# df.drop(columns='transaction_price_override', inplace=True)\n",
    "\n",
    "# Post commission split and too many unknowns going into these values.\n",
    "df.drop(columns=['total_fees_charged_against_brokerage',\n",
    "                  'total_fees_charged_against_agent',\n",
    "                  'total_fees_paid_on_transaction',\n",
    "                  'total_liabilities_against_brokerage',\n",
    "                  'total_liabilities_against_agent',\n",
    "                  'total_liabilities_on_transaction',\n",
    "                  'total_brokerage_income_collected_from_agent_fees',\n",
    "                  'final_brokerage_income_after_all_liabilities_are_paid_out',], inplace=True)\n",
    "\n",
    "# Mostly NaNs.\n",
    "df.drop(columns=['bonus_commission_type',\n",
    "                 'bonus_commission_agent_net_amount',\n",
    "                 'bonus_commission_brokerage_net_amount',], inplace=True)\n",
    "\n",
    "# Drop the transaction GUID; we are not using this now.\n",
    "df.drop(columns=\"listing_transaction_guid\", inplace=True)"
   ]
  },
  {
   "cell_type": "markdown",
   "metadata": {},
   "source": [
    "#### Rename Columns\n",
    "To shorter, more descriptive names."
   ]
  },
  {
   "cell_type": "code",
   "execution_count": 6,
   "metadata": {
    "ExecuteTime": {
     "end_time": "2019-06-12T11:36:33.806998Z",
     "start_time": "2019-06-12T11:36:33.792890Z"
    }
   },
   "outputs": [],
   "source": [
    "new_col_names = {'commission_schedule_strategy': 'com_plan', \n",
    "                 'transaction_id': 'trans_id',\n",
    "                 'transaction_contracted_at': 'contract_date',\n",
    "                 'transaction_effective_at': 'sale_date', \n",
    "                 'transaction_status': 'sale_status', \n",
    "                 'transaction_sales_amount': 'sale_amount',\n",
    "                 'property_information': \"property_address\",\n",
    "                 'transaction_side': 'trans_side',\n",
    "                 'transaction_price_override': 'price_override',\n",
    "                 'standard_commission_gci_amount': 'com_gross', \n",
    "                 'standard_commission_agent_net_amount': 'com_agent_net', \n",
    "                 'standard_commission_brokerage_net_amount': 'com_brokerage_net'\n",
    "                }\n",
    "\n",
    "df = df.rename(columns=new_col_names)"
   ]
  },
  {
   "cell_type": "markdown",
   "metadata": {},
   "source": [
    "### Rename Variable Values"
   ]
  },
  {
   "cell_type": "markdown",
   "metadata": {},
   "source": [
    "#### Transaction Side\n",
    "\n",
    "Selling/Buying is clearer than Listing/Selling"
   ]
  },
  {
   "cell_type": "code",
   "execution_count": 7,
   "metadata": {
    "ExecuteTime": {
     "end_time": "2019-06-12T11:36:33.815429Z",
     "start_time": "2019-06-12T11:36:33.808684Z"
    }
   },
   "outputs": [],
   "source": [
    "df.trans_side.replace(\"LISTING_SIDE\", \"Selling\", inplace=True)\n",
    "df.trans_side.replace(\"SELLING_SIDE\", \"Buying\", inplace=True)"
   ]
  },
  {
   "cell_type": "markdown",
   "metadata": {},
   "source": [
    "### Filter"
   ]
  },
  {
   "cell_type": "markdown",
   "metadata": {},
   "source": [
    "#### Select Finished Transactions"
   ]
  },
  {
   "cell_type": "markdown",
   "metadata": {},
   "source": [
    "There are too many issues with handling \"OPEN\" or other types of transactions. E.g., is the sale amount accurate? Let's just proceed with the ones we know are finished and the money has come in."
   ]
  },
  {
   "cell_type": "code",
   "execution_count": 8,
   "metadata": {
    "ExecuteTime": {
     "end_time": "2019-06-12T11:36:33.824721Z",
     "start_time": "2019-06-12T11:36:33.817340Z"
    }
   },
   "outputs": [
    {
     "name": "stdout",
     "output_type": "stream",
     "text": [
      "Dropped 3362 rows.\n"
     ]
    }
   ],
   "source": [
    "before = len(df)\n",
    "df = df[df.sale_status == 'COMPLETE']\n",
    "print(f'Dropped {before - len(df)} rows.')"
   ]
  },
  {
   "cell_type": "markdown",
   "metadata": {},
   "source": [
    "#### Drop Outliers"
   ]
  },
  {
   "cell_type": "markdown",
   "metadata": {},
   "source": [
    "Drop row where sales_amount is > $1 billion because at least one of the transactions was more than this amount and it was an entry error. We are keeping this code in case it creeps back in."
   ]
  },
  {
   "cell_type": "code",
   "execution_count": 9,
   "metadata": {
    "ExecuteTime": {
     "end_time": "2019-06-12T11:36:33.832141Z",
     "start_time": "2019-06-12T11:36:33.826537Z"
    }
   },
   "outputs": [
    {
     "name": "stdout",
     "output_type": "stream",
     "text": [
      "Dropped 0 rows.\n"
     ]
    }
   ],
   "source": [
    "before = len(df)\n",
    "df = df[df.sale_amount < 1_000_000_000]\n",
    "print(f'Dropped {before - len(df)} rows.')"
   ]
  },
  {
   "cell_type": "markdown",
   "metadata": {},
   "source": [
    "### Encode Columns"
   ]
  },
  {
   "cell_type": "markdown",
   "metadata": {},
   "source": [
    "#### Various ID fields\n",
    "\n",
    "The raw values for the \\_id columns are long randomized strings whose uniqueness is the only thing of value. Let's make them more manageable by encoding."
   ]
  },
  {
   "cell_type": "code",
   "execution_count": 10,
   "metadata": {
    "ExecuteTime": {
     "end_time": "2019-06-12T11:36:33.859848Z",
     "start_time": "2019-06-12T11:36:33.833538Z"
    }
   },
   "outputs": [],
   "source": [
    "to_encode = ['agent_id',\n",
    "             'brokerage_id',\n",
    "             'trans_id',\n",
    "             'account_id']\n",
    "\n",
    "label_encoders = dict()  # save the encoder objects\n",
    "for col in to_encode:\n",
    "    le = LabelEncoder().fit(df[col])\n",
    "    label_encoders[col] = le\n",
    "    df[col] = le.transform(df[col])"
   ]
  },
  {
   "cell_type": "markdown",
   "metadata": {},
   "source": [
    "### Dates"
   ]
  },
  {
   "cell_type": "markdown",
   "metadata": {},
   "source": [
    "#### Correcting dates\n",
    "These dates were corrected because they had bad years. The corrected year was inferred from the dates for transaction_closed_at and transaction_contracted_at columns."
   ]
  },
  {
   "cell_type": "code",
   "execution_count": 11,
   "metadata": {
    "ExecuteTime": {
     "end_time": "2019-06-12T11:36:33.930158Z",
     "start_time": "2019-06-12T11:36:33.861314Z"
    }
   },
   "outputs": [],
   "source": [
    "df.loc[df.trans_id == 8017, 'sale_date'] = \"2018-08-31 12:00:00 UTC\"\n",
    "df.loc[df.trans_id == 5675, 'sale_date'] = \"2019-07-22 12:00:00 UTC\"\n",
    "df.loc[df.trans_id == 3423, 'sale_date'] = \"2019-11-12 12:00:00 UTC\"\n",
    "df.loc[df.trans_id == 5141, 'sale_date'] = \"2019-06-14 12:00:00 UTC\"\n",
    "df.loc[df.trans_id == 6246, 'sale_date'] = \"2018-08-31 12:00:00 UTC\""
   ]
  },
  {
   "cell_type": "markdown",
   "metadata": {},
   "source": [
    "#### Convert dates to datetime type\n",
    "Drop the time as well"
   ]
  },
  {
   "cell_type": "code",
   "execution_count": 12,
   "metadata": {
    "ExecuteTime": {
     "end_time": "2019-06-12T11:36:35.604004Z",
     "start_time": "2019-06-12T11:36:33.931878Z"
    }
   },
   "outputs": [],
   "source": [
    "df['sale_date'] = pd.to_datetime(df.sale_date, errors = 'coerce')\n",
    "df.sale_date = df.sale_date.dt.date\n",
    "df['sale_date'] = pd.to_datetime(df.sale_date, errors = 'coerce')  # this is necessary to convert the column back to datetime type"
   ]
  },
  {
   "cell_type": "markdown",
   "metadata": {},
   "source": [
    "#### Add columns for year and quarter of sale"
   ]
  },
  {
   "cell_type": "code",
   "execution_count": 13,
   "metadata": {
    "ExecuteTime": {
     "end_time": "2019-06-12T11:36:35.616208Z",
     "start_time": "2019-06-12T11:36:35.605394Z"
    }
   },
   "outputs": [],
   "source": [
    "df = df.assign(sale_year=df.sale_date.dt.year)\n",
    "df = df.assign(sale_quarter=df.sale_date.dt.quarter)\n",
    "df = df.assign(sale_month=df.sale_date.dt.month)"
   ]
  },
  {
   "cell_type": "markdown",
   "metadata": {},
   "source": [
    "### Location"
   ]
  },
  {
   "cell_type": "markdown",
   "metadata": {},
   "source": [
    "Separate property address information into separate columns"
   ]
  },
  {
   "cell_type": "code",
   "execution_count": 14,
   "metadata": {
    "ExecuteTime": {
     "end_time": "2019-06-12T11:36:35.674206Z",
     "start_time": "2019-06-12T11:36:35.617565Z"
    }
   },
   "outputs": [],
   "source": [
    "working = df.property_address.str.extract(r'(.+?)\\s+-\\s+(.+?)\\s*-\\s*(.+?)\\s*-\\s*(\\d+)?')\n",
    "working.rename(columns={0:'address', 1: 'city', 2: 'state', 3: 'zip'}, inplace=True)"
   ]
  },
  {
   "cell_type": "markdown",
   "metadata": {},
   "source": [
    "Drop the rows that have no address information"
   ]
  },
  {
   "cell_type": "code",
   "execution_count": 15,
   "metadata": {
    "ExecuteTime": {
     "end_time": "2019-06-12T11:36:35.683740Z",
     "start_time": "2019-06-12T11:36:35.675925Z"
    }
   },
   "outputs": [
    {
     "name": "stdout",
     "output_type": "stream",
     "text": [
      "Dropped 17 rows.\n"
     ]
    }
   ],
   "source": [
    "before = len(working)\n",
    "working = working.dropna(subset=['address'])\n",
    "print(f'Dropped {before - len(working)} rows.')"
   ]
  },
  {
   "cell_type": "markdown",
   "metadata": {},
   "source": [
    "Join the new address columns"
   ]
  },
  {
   "cell_type": "code",
   "execution_count": 16,
   "metadata": {
    "ExecuteTime": {
     "end_time": "2019-06-12T11:36:35.711316Z",
     "start_time": "2019-06-12T11:36:35.685278Z"
    }
   },
   "outputs": [],
   "source": [
    "df = pd.merge(left=df, right=working, left_on=df.index, right_on=working.index).drop(columns='key_0')"
   ]
  },
  {
   "cell_type": "markdown",
   "metadata": {},
   "source": [
    "Use abbreviation of state instead of full name"
   ]
  },
  {
   "cell_type": "code",
   "execution_count": 17,
   "metadata": {
    "ExecuteTime": {
     "end_time": "2019-06-12T11:36:35.782932Z",
     "start_time": "2019-06-12T11:36:35.712950Z"
    }
   },
   "outputs": [
    {
     "name": "stdout",
     "output_type": "stream",
     "text": [
      "Dropped 56 rows.\n"
     ]
    }
   ],
   "source": [
    "df['state'] = df['state'].str.upper()\n",
    "\n",
    "states_to_replace = {\n",
    "    'TEXAS': 'TX',\n",
    "    'CALIFORNIA': 'CA',\n",
    "    'KANSAS': 'KS',\n",
    "    'KENTUCKY': 'KY',\n",
    "    'GEORGIA': 'GA',\n",
    "    'INDIANA': 'IN',\n",
    "    'ILLINOIS': 'IL',\n",
    "    'COLORADO': 'CO',\n",
    "    'FLORIDA': 'FL',\n",
    "    'NORTH CAROLINA': 'NC',\n",
    "    'HAWAII': 'HI',\n",
    "    'IOWA': 'IA',\n",
    "    'NEW YORK': 'NY',\n",
    "    'OREGON': 'OR',\n",
    "    'KANSA': 'KS',\n",
    "    'VIRGINIA': 'VA',\n",
    "    'NORTH CAROLINE': 'NC',\n",
    "    'ARIZONA': 'AZ',\n",
    "    'MICHIGAN': 'MI',\n",
    "    'ALABAMA': 'AL',\n",
    "    'WASHINGTON': 'WA',\n",
    "    'NHY': 'NY',\n",
    "    'CONNETICUT': 'CT',\n",
    "    'NEBRASKA': 'NE',\n",
    "    'KANSA': 'KS',\n",
    "    'TC': 'TCCC',\n",
    "    'BC': 'BCCC',\n",
    "    '84': '8444',\n",
    "    'NA': 'NAAA'\n",
    "}\n",
    "\n",
    "df['state'].replace(states_to_replace, inplace=True)\n",
    "\n",
    "before = len(df)\n",
    "df = df.drop(df[df['state'].map(len) != 2].index)\n",
    "print(f'Dropped {before - len(df)} rows.')\n",
    "\n",
    "df[['address', 'city', 'state', 'zip']].to_csv('50_TX_addresses.csv', sep=',', index=False)"
   ]
  },
  {
   "cell_type": "markdown",
   "metadata": {},
   "source": [
    "### Brokerage 34's Texas Transactions Filter"
   ]
  },
  {
   "cell_type": "markdown",
   "metadata": {},
   "source": [
    "First make a backup of df"
   ]
  },
  {
   "cell_type": "code",
   "execution_count": 18,
   "metadata": {
    "ExecuteTime": {
     "end_time": "2019-06-12T11:36:35.793938Z",
     "start_time": "2019-06-12T11:36:35.787951Z"
    }
   },
   "outputs": [],
   "source": [
    "df_all = df.copy()"
   ]
  },
  {
   "cell_type": "markdown",
   "metadata": {},
   "source": [
    "Extract only those Texas transactions connected with Brokerage 34, the target brokerage."
   ]
  },
  {
   "cell_type": "code",
   "execution_count": 19,
   "metadata": {
    "ExecuteTime": {
     "end_time": "2019-06-12T11:36:35.806355Z",
     "start_time": "2019-06-12T11:36:35.798524Z"
    }
   },
   "outputs": [
    {
     "name": "stdout",
     "output_type": "stream",
     "text": [
      "Dropped 8080 rows.\n"
     ]
    }
   ],
   "source": [
    "before = len(df)\n",
    "df = df[(df.brokerage_id == 34) & (df.state == \"TX\")]\n",
    "print(f'Dropped {before - len(df)} rows.')"
   ]
  },
  {
   "cell_type": "markdown",
   "metadata": {},
   "source": [
    "How many agents from Brokerage 34 do we start with?"
   ]
  },
  {
   "cell_type": "code",
   "execution_count": 20,
   "metadata": {
    "ExecuteTime": {
     "end_time": "2019-06-12T11:36:35.813570Z",
     "start_time": "2019-06-12T11:36:35.808149Z"
    }
   },
   "outputs": [
    {
     "data": {
      "text/plain": [
       "353"
      ]
     },
     "execution_count": 20,
     "metadata": {},
     "output_type": "execute_result"
    }
   ],
   "source": [
    "df.agent_id.nunique()"
   ]
  },
  {
   "cell_type": "markdown",
   "metadata": {},
   "source": [
    "### Add in ZIP codes and Lat/Long"
   ]
  },
  {
   "cell_type": "code",
   "execution_count": 21,
   "metadata": {
    "ExecuteTime": {
     "end_time": "2019-06-12T11:36:35.839173Z",
     "start_time": "2019-06-12T11:36:35.815012Z"
    }
   },
   "outputs": [],
   "source": [
    "df2 = pd.read_csv('lat_lng.csv')\n",
    "df = pd.merge(left=df, right=df2, on=df.index).drop(columns='key_0')"
   ]
  },
  {
   "cell_type": "markdown",
   "metadata": {},
   "source": [
    "### Exclude Jan 2018 data\n",
    "It's incomplete."
   ]
  },
  {
   "cell_type": "code",
   "execution_count": 22,
   "metadata": {
    "ExecuteTime": {
     "end_time": "2019-06-12T11:36:35.847044Z",
     "start_time": "2019-06-12T11:36:35.840839Z"
    }
   },
   "outputs": [
    {
     "name": "stdout",
     "output_type": "stream",
     "text": [
      "Dropped 16 rows.\n"
     ]
    }
   ],
   "source": [
    "before = len(df)\n",
    "df = df[df.sale_date >= \"2018-02-01\"]\n",
    "after = len(df)\n",
    "print(f\"Dropped {before - after} rows.\")"
   ]
  },
  {
   "cell_type": "markdown",
   "metadata": {},
   "source": [
    "### Remove low-dollar transactions"
   ]
  },
  {
   "cell_type": "code",
   "execution_count": 23,
   "metadata": {
    "ExecuteTime": {
     "end_time": "2019-06-12T11:36:35.853965Z",
     "start_time": "2019-06-12T11:36:35.848532Z"
    }
   },
   "outputs": [
    {
     "name": "stdout",
     "output_type": "stream",
     "text": [
      "Dropped 592 rows.\n"
     ]
    }
   ],
   "source": [
    "before = len(df)\n",
    "df = df[(df.sale_amount > 20_000)]\n",
    "print(f'Dropped {before - len(df)} rows.')"
   ]
  },
  {
   "cell_type": "markdown",
   "metadata": {},
   "source": [
    "### Impute"
   ]
  },
  {
   "cell_type": "markdown",
   "metadata": {},
   "source": [
    "#### Impute the gross commission from the average commission rate"
   ]
  },
  {
   "cell_type": "code",
   "execution_count": 24,
   "metadata": {
    "ExecuteTime": {
     "end_time": "2019-06-12T11:36:35.909595Z",
     "start_time": "2019-06-12T11:36:35.855433Z"
    }
   },
   "outputs": [
    {
     "name": "stdout",
     "output_type": "stream",
     "text": [
      "Filling 54 rows.\n"
     ]
    }
   ],
   "source": [
    "com_gross_avg = df.com_gross.sum() / df.sale_amount.sum()\n",
    "print(f'Filling {df.com_gross.isna().sum()} rows.')\n",
    "df.com_gross.fillna(df.sale_amount * com_gross_avg, inplace=True)"
   ]
  },
  {
   "cell_type": "markdown",
   "metadata": {},
   "source": [
    "#### Impute commissions for agents and brokerages"
   ]
  },
  {
   "cell_type": "markdown",
   "metadata": {},
   "source": [
    "What is the agent's average proportion of take from the sale amount?"
   ]
  },
  {
   "cell_type": "code",
   "execution_count": 25,
   "metadata": {
    "ExecuteTime": {
     "end_time": "2019-06-12T11:36:35.948974Z",
     "start_time": "2019-06-12T11:36:35.911146Z"
    }
   },
   "outputs": [
    {
     "name": "stdout",
     "output_type": "stream",
     "text": [
      "Filled 54 rows.\n"
     ]
    }
   ],
   "source": [
    "print(f'Filled {df.com_agent_net.isna().sum()} rows.')\n",
    "com_agent_avg = df.com_agent_net.sum() / df.sale_amount.sum()\n",
    "df.com_agent_net.fillna(com_agent_avg * df.sale_amount, inplace=True)"
   ]
  },
  {
   "cell_type": "markdown",
   "metadata": {},
   "source": [
    "What is the brokerage's average proportion of take from the sale amount?"
   ]
  },
  {
   "cell_type": "code",
   "execution_count": 26,
   "metadata": {
    "ExecuteTime": {
     "end_time": "2019-06-12T11:36:35.988614Z",
     "start_time": "2019-06-12T11:36:35.950568Z"
    }
   },
   "outputs": [
    {
     "name": "stdout",
     "output_type": "stream",
     "text": [
      "Filled 54 rows.\n"
     ]
    }
   ],
   "source": [
    "print(f'Filled {df.com_brokerage_net.isna().sum()} rows.')\n",
    "com_brokerage_avg = df.com_brokerage_net.sum() / df.sale_amount.sum()\n",
    "df.com_brokerage_net.fillna(com_brokerage_avg * df.sale_amount, inplace=True)"
   ]
  },
  {
   "cell_type": "markdown",
   "metadata": {},
   "source": [
    "### Create Derivative Dataframes"
   ]
  },
  {
   "cell_type": "markdown",
   "metadata": {},
   "source": [
    "#### 2018 Dataframe"
   ]
  },
  {
   "cell_type": "markdown",
   "metadata": {},
   "source": [
    "Get only 2018 data"
   ]
  },
  {
   "cell_type": "code",
   "execution_count": 27,
   "metadata": {
    "ExecuteTime": {
     "end_time": "2019-06-12T11:36:35.994758Z",
     "start_time": "2019-06-12T11:36:35.990068Z"
    }
   },
   "outputs": [],
   "source": [
    "df_2018 = df[df['sale_year'] == 2018]"
   ]
  },
  {
   "cell_type": "markdown",
   "metadata": {},
   "source": [
    "#### Agent Dataframe"
   ]
  },
  {
   "cell_type": "markdown",
   "metadata": {},
   "source": [
    "Calculate summary statistics"
   ]
  },
  {
   "cell_type": "code",
   "execution_count": 28,
   "metadata": {
    "ExecuteTime": {
     "end_time": "2019-06-12T11:36:36.009966Z",
     "start_time": "2019-06-12T11:36:35.996687Z"
    }
   },
   "outputs": [],
   "source": [
    "# Count\n",
    "count_df_2018 = df_2018.groupby('agent_id')[[\"agent_id\"]].count()\n",
    "# Sum\n",
    "sum_df_2018 = df_2018.groupby('agent_id')[['sale_amount', 'com_gross', 'com_agent_net','com_brokerage_net']].sum()\n",
    "# Avg\n",
    "mean_df_2018 = df_2018.groupby('agent_id')[['sale_amount', 'com_gross', 'com_agent_net','com_brokerage_net']].mean()\n",
    "# Median\n",
    "med_df_2018 = df_2018.groupby('agent_id')[['sale_amount', 'com_gross', 'com_agent_net','com_brokerage_net']].median()"
   ]
  },
  {
   "cell_type": "markdown",
   "metadata": {},
   "source": [
    "Rename columns for join"
   ]
  },
  {
   "cell_type": "code",
   "execution_count": 29,
   "metadata": {
    "ExecuteTime": {
     "end_time": "2019-06-12T11:36:36.017700Z",
     "start_time": "2019-06-12T11:36:36.011736Z"
    }
   },
   "outputs": [],
   "source": [
    "count_df_2018 = count_df_2018.rename(columns={'agent_id': 'trans_count'})\n",
    "\n",
    "sum_df_2018 = sum_df_2018.rename(columns={'sale_amount': 'sum_sales',\n",
    "                                          'com_gross': 'sum_com_gross',\n",
    "                                          'com_agent_net': 'sum_agent_com',\n",
    "                                          'com_brokerage_net': 'sum_brokerage_com'})\n",
    "\n",
    "mean_df_2018 = mean_df_2018.rename(columns={'sale_amount': 'avg_sales',\n",
    "                                            'com_gross': 'avg_com_gross',\n",
    "                                            'com_agent_net': 'avg_agent_com',\n",
    "                                            'com_brokerage_net': 'avg_brokerage_com'})\n",
    "\n",
    "med_df_2018 = med_df_2018.rename(columns={'sale_amount': 'med_sales',\n",
    "                                          'com_gross': 'med_com_gross',\n",
    "                                          'com_agent_net': 'med_agent_com',\n",
    "                                          'com_brokerage_net': 'med_brokerage_com'})"
   ]
  },
  {
   "cell_type": "markdown",
   "metadata": {},
   "source": [
    "Join into one dataframe"
   ]
  },
  {
   "cell_type": "code",
   "execution_count": 30,
   "metadata": {
    "ExecuteTime": {
     "end_time": "2019-06-12T11:36:36.024622Z",
     "start_time": "2019-06-12T11:36:36.019569Z"
    }
   },
   "outputs": [],
   "source": [
    "agent_df = count_df_2018.join(sum_df_2018).join(mean_df_2018).join(med_df_2018)"
   ]
  },
  {
   "cell_type": "markdown",
   "metadata": {},
   "source": [
    "Create a column for the quintiles the agents fall into"
   ]
  },
  {
   "cell_type": "code",
   "execution_count": 31,
   "metadata": {
    "ExecuteTime": {
     "end_time": "2019-06-12T11:36:36.037212Z",
     "start_time": "2019-06-12T11:36:36.026289Z"
    }
   },
   "outputs": [],
   "source": [
    "agent_df['quintile'] = pd.qcut(agent_df.sum_sales, 5, labels=[\"Bottom\", \"Below Average\", \"Average\", \"Above Average\", \"Top\"])\n",
    "agent_df['quintile_range'] = pd.qcut(agent_df.sum_sales, 5)"
   ]
  },
  {
   "cell_type": "markdown",
   "metadata": {},
   "source": [
    "Create a binary variable for top 20 percent"
   ]
  },
  {
   "cell_type": "code",
   "execution_count": 32,
   "metadata": {
    "ExecuteTime": {
     "end_time": "2019-06-12T11:36:36.043013Z",
     "start_time": "2019-06-12T11:36:36.038838Z"
    }
   },
   "outputs": [],
   "source": [
    "agent_df['top_quintile'] = (agent_df.quintile == 'Top').astype(int)"
   ]
  },
  {
   "cell_type": "markdown",
   "metadata": {},
   "source": [
    "Are any agent IDs connected to multiple accounts or brokerages?"
   ]
  },
  {
   "cell_type": "code",
   "execution_count": 33,
   "metadata": {
    "ExecuteTime": {
     "end_time": "2019-06-12T11:36:36.051762Z",
     "start_time": "2019-06-12T11:36:36.044640Z"
    }
   },
   "outputs": [
    {
     "name": "stdout",
     "output_type": "stream",
     "text": [
      "False\n",
      "False\n"
     ]
    }
   ],
   "source": [
    "print((df.groupby('agent_id').account_id.nunique() != 1).sum() > 0)\n",
    "print((df.groupby('agent_id').brokerage_id.nunique() != 1).sum() > 0)"
   ]
  },
  {
   "cell_type": "markdown",
   "metadata": {},
   "source": [
    "Get the account and brokerage IDs for each agent. We use the mode because each agent ID is mapped to only one account_id and one brokerage_id, so the mode will suffice."
   ]
  },
  {
   "cell_type": "code",
   "execution_count": 34,
   "metadata": {
    "ExecuteTime": {
     "end_time": "2019-06-12T11:36:36.139884Z",
     "start_time": "2019-06-12T11:36:36.053613Z"
    }
   },
   "outputs": [],
   "source": [
    "agent_df = agent_df.join(df_2018.groupby('agent_id')['account_id','brokerage_id'].agg(pd.Series.mode))"
   ]
  },
  {
   "cell_type": "markdown",
   "metadata": {},
   "source": [
    "How many transactions does each agent have under the two different commission plans?"
   ]
  },
  {
   "cell_type": "code",
   "execution_count": 35,
   "metadata": {
    "ExecuteTime": {
     "end_time": "2019-06-12T11:36:36.333408Z",
     "start_time": "2019-06-12T11:36:36.141630Z"
    }
   },
   "outputs": [],
   "source": [
    "com_plan_pivot = (df_2018.groupby(['agent_id', 'com_plan'])['com_plan']\n",
    "                         .agg(pd.Series.value_counts)\n",
    "                         .rename(\"count\")\n",
    "                         .reset_index()\n",
    "                         .pivot(index=\"agent_id\", columns=\"com_plan\", values=\"count\")\n",
    "                         .fillna(0)\n",
    "                         .astype(int))\n",
    "com_plan_pivot.columns=[\"accum_strategy\", \"flat_strategy\"]"
   ]
  },
  {
   "cell_type": "code",
   "execution_count": 36,
   "metadata": {
    "ExecuteTime": {
     "end_time": "2019-06-12T11:36:36.338307Z",
     "start_time": "2019-06-12T11:36:36.335039Z"
    }
   },
   "outputs": [],
   "source": [
    "agent_df = agent_df.join(com_plan_pivot)"
   ]
  },
  {
   "cell_type": "markdown",
   "metadata": {},
   "source": [
    "How many transactions does each agent have under the listing or selling side?"
   ]
  },
  {
   "cell_type": "code",
   "execution_count": 37,
   "metadata": {
    "ExecuteTime": {
     "end_time": "2019-06-12T11:36:36.625295Z",
     "start_time": "2019-06-12T11:36:36.339922Z"
    }
   },
   "outputs": [],
   "source": [
    "trans_side_pivot = (df_2018.groupby(['agent_id', 'trans_side'])['trans_side']\n",
    "                           .agg(pd.Series.value_counts)\n",
    "                           .rename(\"count\")\n",
    "                           .reset_index()\n",
    "                           .pivot(index=\"agent_id\", columns=\"trans_side\", values=\"count\")\n",
    "                           .fillna(0)\n",
    "                           .astype(int))\n",
    "trans_side_pivot.columns=[\"selling_side\", \"buying_side\"]"
   ]
  },
  {
   "cell_type": "code",
   "execution_count": 38,
   "metadata": {
    "ExecuteTime": {
     "end_time": "2019-06-12T11:36:36.630531Z",
     "start_time": "2019-06-12T11:36:36.626912Z"
    }
   },
   "outputs": [],
   "source": [
    "agent_df = agent_df.join(trans_side_pivot)"
   ]
  },
  {
   "cell_type": "markdown",
   "metadata": {},
   "source": [
    "### Data Sanity/Validation Checks"
   ]
  },
  {
   "cell_type": "code",
   "execution_count": 39,
   "metadata": {
    "ExecuteTime": {
     "end_time": "2019-06-12T11:36:36.640871Z",
     "start_time": "2019-06-12T11:36:36.632380Z"
    }
   },
   "outputs": [
    {
     "data": {
      "text/plain": [
       "agent_id              0\n",
       "account_id            0\n",
       "brokerage_id          0\n",
       "com_plan              0\n",
       "trans_id              0\n",
       "contract_date         0\n",
       "sale_date             0\n",
       "sale_status           0\n",
       "sale_amount           0\n",
       "property_address      0\n",
       "trans_side            0\n",
       "price_override        0\n",
       "com_gross             0\n",
       "com_agent_net         0\n",
       "com_brokerage_net     0\n",
       "sale_year             0\n",
       "sale_quarter          0\n",
       "sale_month            0\n",
       "address               0\n",
       "city                  0\n",
       "state                 0\n",
       "zip                  96\n",
       "lat                   0\n",
       "lng                   0\n",
       "dtype: int64"
      ]
     },
     "execution_count": 39,
     "metadata": {},
     "output_type": "execute_result"
    }
   ],
   "source": [
    "df.isnull().sum()"
   ]
  },
  {
   "cell_type": "markdown",
   "metadata": {},
   "source": [
    "We could not find good ZIPs for these. We can leave them as NaN."
   ]
  },
  {
   "cell_type": "markdown",
   "metadata": {},
   "source": [
    "Does agent_df contain only 2018 data?\n",
    "It must; otherwise, our models are learning from data used to derive our target variable"
   ]
  },
  {
   "cell_type": "code",
   "execution_count": 40,
   "metadata": {
    "ExecuteTime": {
     "end_time": "2019-06-12T11:36:36.648835Z",
     "start_time": "2019-06-12T11:36:36.642455Z"
    }
   },
   "outputs": [
    {
     "data": {
      "text/plain": [
       "True"
      ]
     },
     "execution_count": 40,
     "metadata": {},
     "output_type": "execute_result"
    }
   ],
   "source": [
    "df[(df.sale_year == 2018)].sale_amount.sum() == agent_df.sum_sales.sum()"
   ]
  },
  {
   "cell_type": "markdown",
   "metadata": {},
   "source": [
    "Are there any transactions that have multiple agents on them??"
   ]
  },
  {
   "cell_type": "code",
   "execution_count": 41,
   "metadata": {
    "ExecuteTime": {
     "end_time": "2019-06-12T11:36:36.656003Z",
     "start_time": "2019-06-12T11:36:36.650540Z"
    }
   },
   "outputs": [
    {
     "data": {
      "text/plain": [
       "469"
      ]
     },
     "execution_count": 41,
     "metadata": {},
     "output_type": "execute_result"
    }
   ],
   "source": [
    "(df.trans_id.value_counts() > 1).sum()"
   ]
  },
  {
   "cell_type": "markdown",
   "metadata": {},
   "source": [
    "Yes, there are quite a few."
   ]
  },
  {
   "cell_type": "markdown",
   "metadata": {},
   "source": [
    "## Exploration"
   ]
  },
  {
   "cell_type": "markdown",
   "metadata": {},
   "source": [
    "### Summary Stats"
   ]
  },
  {
   "cell_type": "markdown",
   "metadata": {},
   "source": [
    "What are the dimensions?"
   ]
  },
  {
   "cell_type": "code",
   "execution_count": 42,
   "metadata": {
    "ExecuteTime": {
     "end_time": "2019-06-12T11:36:36.660486Z",
     "start_time": "2019-06-12T11:36:36.657254Z"
    }
   },
   "outputs": [
    {
     "data": {
      "text/plain": [
       "(4759, 24)"
      ]
     },
     "execution_count": 42,
     "metadata": {},
     "output_type": "execute_result"
    }
   ],
   "source": [
    "df.shape"
   ]
  },
  {
   "cell_type": "code",
   "execution_count": 43,
   "metadata": {
    "ExecuteTime": {
     "end_time": "2019-06-12T11:36:36.665864Z",
     "start_time": "2019-06-12T11:36:36.662004Z"
    }
   },
   "outputs": [
    {
     "data": {
      "text/plain": [
       "(310, 22)"
      ]
     },
     "execution_count": 43,
     "metadata": {},
     "output_type": "execute_result"
    }
   ],
   "source": [
    "agent_df.shape"
   ]
  },
  {
   "cell_type": "markdown",
   "metadata": {},
   "source": [
    "How many transactions?"
   ]
  },
  {
   "cell_type": "code",
   "execution_count": 44,
   "metadata": {
    "ExecuteTime": {
     "end_time": "2019-06-12T11:36:36.670631Z",
     "start_time": "2019-06-12T11:36:36.667401Z"
    }
   },
   "outputs": [
    {
     "data": {
      "text/plain": [
       "3350"
      ]
     },
     "execution_count": 44,
     "metadata": {},
     "output_type": "execute_result"
    }
   ],
   "source": [
    "len(df_2018)"
   ]
  },
  {
   "cell_type": "markdown",
   "metadata": {},
   "source": [
    "### By Agent"
   ]
  },
  {
   "cell_type": "markdown",
   "metadata": {},
   "source": [
    "Distribution of properties sold per agent"
   ]
  },
  {
   "cell_type": "code",
   "execution_count": 45,
   "metadata": {
    "ExecuteTime": {
     "end_time": "2019-06-12T11:36:36.869488Z",
     "start_time": "2019-06-12T11:36:36.672091Z"
    }
   },
   "outputs": [
    {
     "data": {
      "image/png": "[encoded data removed]",
      "text/plain": [
       "<Figure size 864x432 with 1 Axes>"
      ]
     },
     "metadata": {
      "needs_background": "light"
     },
     "output_type": "display_data"
    }
   ],
   "source": [
    "plt.figure(figsize=(12, 6))\n",
    "sns.distplot(agent_df.trans_count, kde=False, rug=True, axlabel=\"Number of Transactions\", color=\"green\")\n",
    "plt.ylabel(\"Number of Agents\")\n",
    "plt.title(\"Number of Transactions per Agent\")\n",
    "plt.show()"
   ]
  },
  {
   "cell_type": "markdown",
   "metadata": {},
   "source": [
    "Distribution of total sales by agent"
   ]
  },
  {
   "cell_type": "code",
   "execution_count": 46,
   "metadata": {
    "ExecuteTime": {
     "end_time": "2019-06-12T11:36:37.081692Z",
     "start_time": "2019-06-12T11:36:36.871071Z"
    }
   },
   "outputs": [
    {
     "data": {
      "image/png": "[encoded data removed]",
      "text/plain": [
       "<Figure size 864x432 with 1 Axes>"
      ]
     },
     "metadata": {
      "needs_background": "light"
     },
     "output_type": "display_data"
    }
   ],
   "source": [
    "plt.figure(figsize=(12, 6))\n",
    "ax = sns.distplot(agent_df.sum_sales, kde=False, rug=True, axlabel=\"Total Sales\", color=\"green\")\n",
    "plt.ticklabel_format(style='plain', axis='x')\n",
    "ax.xaxis.set_major_formatter(mpl.ticker.StrMethodFormatter('{x:,.0f}'))\n",
    "plt.ylabel(\"Number of Agents\")\n",
    "plt.title(\"Total Sales per Agent\")\n",
    "plt.show()"
   ]
  },
  {
   "cell_type": "markdown",
   "metadata": {},
   "source": [
    "#### By Quintile"
   ]
  },
  {
   "cell_type": "markdown",
   "metadata": {},
   "source": [
    "What is the median number of transactions by quintile?"
   ]
  },
  {
   "cell_type": "code",
   "execution_count": 47,
   "metadata": {
    "ExecuteTime": {
     "end_time": "2019-06-12T11:36:37.241885Z",
     "start_time": "2019-06-12T11:36:37.083472Z"
    }
   },
   "outputs": [
    {
     "data": {
      "image/png": "[encoded data removed]",
      "text/plain": [
       "<Figure size 720x432 with 1 Axes>"
      ]
     },
     "metadata": {
      "needs_background": "light"
     },
     "output_type": "display_data"
    }
   ],
   "source": [
    "median_by_quintile = agent_df.groupby('quintile')['trans_count'].median()\n",
    "plt.figure(figsize=(10, 6))\n",
    "sns.barplot(x=median_by_quintile.index, y=median_by_quintile, color='green')\n",
    "plt.xlabel(\"Rank\")\n",
    "plt.ylabel(\"Number of Transactions\")\n",
    "plt.title(\"Median Number of Transactions per Agent by Quintile\")\n",
    "plt.show()"
   ]
  },
  {
   "cell_type": "markdown",
   "metadata": {},
   "source": [
    "**Number of transactions is predictive of high performers**"
   ]
  },
  {
   "cell_type": "markdown",
   "metadata": {},
   "source": [
    "What is the median total sales by quintile?"
   ]
  },
  {
   "cell_type": "code",
   "execution_count": 48,
   "metadata": {
    "ExecuteTime": {
     "end_time": "2019-06-12T11:36:37.386960Z",
     "start_time": "2019-06-12T11:36:37.243579Z"
    }
   },
   "outputs": [
    {
     "data": {
      "image/png": "[encoded data removed]",
      "text/plain": [
       "<Figure size 720x432 with 1 Axes>"
      ]
     },
     "metadata": {
      "needs_background": "light"
     },
     "output_type": "display_data"
    }
   ],
   "source": [
    "median_by_quintile = agent_df.groupby('quintile')['sum_sales'].median()\n",
    "plt.figure(figsize=(10, 6))\n",
    "ax = sns.barplot(x=median_by_quintile.index, y=median_by_quintile, color='green')\n",
    "plt.ticklabel_format(style='plain', axis='y')\n",
    "ax.yaxis.set_major_formatter(mpl.ticker.StrMethodFormatter('{x:,.0f}'))\n",
    "plt.xlabel(\"Rank\")\n",
    "plt.ylabel(\"Total Sales\")\n",
    "plt.title(\"Median Total Sales per Agent by Quintile\")\n",
    "plt.show()"
   ]
  },
  {
   "cell_type": "markdown",
   "metadata": {},
   "source": [
    "**Total sales is indictative of high performers**"
   ]
  },
  {
   "cell_type": "markdown",
   "metadata": {},
   "source": [
    "What is the minimum of total sales to be in each percentile?"
   ]
  },
  {
   "cell_type": "code",
   "execution_count": 49,
   "metadata": {
    "ExecuteTime": {
     "end_time": "2019-06-12T11:36:37.531685Z",
     "start_time": "2019-06-12T11:36:37.388642Z"
    }
   },
   "outputs": [
    {
     "data": {
      "image/png": "[encoded data removed]",
      "text/plain": [
       "<Figure size 720x432 with 1 Axes>"
      ]
     },
     "metadata": {
      "needs_background": "light"
     },
     "output_type": "display_data"
    }
   ],
   "source": [
    "min_by_quintile = agent_df.groupby('quintile')['sum_sales'].min()\n",
    "plt.figure(figsize=(10, 6))\n",
    "ax = sns.barplot(x=min_by_quintile.index, y=min_by_quintile, color='green')\n",
    "plt.ticklabel_format(style='plain', axis='y')\n",
    "ax.yaxis.set_major_formatter(mpl.ticker.StrMethodFormatter('{x:,.0f}'))\n",
    "plt.xlabel(\"Rank\")\n",
    "plt.ylabel(\"Total Sales\")\n",
    "plt.title(\"Minimum Total Sales per Agent by Quintile\")\n",
    "plt.show()"
   ]
  },
  {
   "cell_type": "markdown",
   "metadata": {},
   "source": [
    "**An agent needs more than \\$8mil at least to be in the top 20.**"
   ]
  },
  {
   "cell_type": "markdown",
   "metadata": {},
   "source": [
    "How many top-20s do we have?"
   ]
  },
  {
   "cell_type": "code",
   "execution_count": 50,
   "metadata": {
    "ExecuteTime": {
     "end_time": "2019-06-12T11:36:37.541883Z",
     "start_time": "2019-06-12T11:36:37.533251Z"
    }
   },
   "outputs": [
    {
     "data": {
      "text/html": [
       "<div>\n",
       "<style scoped>\n",
       "    .dataframe tbody tr th:only-of-type {\n",
       "        vertical-align: middle;\n",
       "    }\n",
       "\n",
       "    .dataframe tbody tr th {\n",
       "        vertical-align: top;\n",
       "    }\n",
       "\n",
       "    .dataframe thead th {\n",
       "        text-align: right;\n",
       "    }\n",
       "</style>\n",
       "<table border=\"1\" class=\"dataframe\">\n",
       "  <thead>\n",
       "    <tr style=\"text-align: right;\">\n",
       "      <th></th>\n",
       "      <th>top_quintile</th>\n",
       "    </tr>\n",
       "    <tr>\n",
       "      <th>top_quintile</th>\n",
       "      <th></th>\n",
       "    </tr>\n",
       "  </thead>\n",
       "  <tbody>\n",
       "    <tr>\n",
       "      <th>0</th>\n",
       "      <td>248</td>\n",
       "    </tr>\n",
       "    <tr>\n",
       "      <th>1</th>\n",
       "      <td>62</td>\n",
       "    </tr>\n",
       "  </tbody>\n",
       "</table>\n",
       "</div>"
      ],
      "text/plain": [
       "              top_quintile\n",
       "top_quintile              \n",
       "0                      248\n",
       "1                       62"
      ]
     },
     "execution_count": 50,
     "metadata": {},
     "output_type": "execute_result"
    }
   ],
   "source": [
    "agent_df.groupby('top_quintile')[['top_quintile']].count()"
   ]
  },
  {
   "cell_type": "markdown",
   "metadata": {},
   "source": [
    "What side are the agents on?"
   ]
  },
  {
   "cell_type": "code",
   "execution_count": 51,
   "metadata": {
    "ExecuteTime": {
     "end_time": "2019-06-12T11:36:37.663534Z",
     "start_time": "2019-06-12T11:36:37.543325Z"
    }
   },
   "outputs": [
    {
     "data": {
      "image/png": "[encoded data removed]",
      "text/plain": [
       "<Figure size 720x432 with 1 Axes>"
      ]
     },
     "metadata": {
      "needs_background": "light"
     },
     "output_type": "display_data"
    }
   ],
   "source": [
    "plt.figure(figsize=(10, 6))\n",
    "num_agents_per_side = df_2018.groupby('trans_side')['agent_id'].count()\n",
    "ax = sns.barplot(x=num_agents_per_side.index, y=num_agents_per_side, color='green')\n",
    "plt.xlabel(\"Transaction Side\")\n",
    "plt.ylabel(\"Number of Agents\")\n",
    "plt.title(\"Number of Agents By Transaction Side\")\n",
    "plt.show()"
   ]
  },
  {
   "cell_type": "markdown",
   "metadata": {},
   "source": [
    "### Sale Price/Commission"
   ]
  },
  {
   "cell_type": "markdown",
   "metadata": {},
   "source": [
    "What does the distribution of sale amount look like?"
   ]
  },
  {
   "cell_type": "code",
   "execution_count": 52,
   "metadata": {
    "ExecuteTime": {
     "end_time": "2019-06-12T11:36:38.044289Z",
     "start_time": "2019-06-12T11:36:37.665222Z"
    }
   },
   "outputs": [
    {
     "data": {
      "image/png": "[encoded data removed]",
      "text/plain": [
       "<Figure size 864x432 with 1 Axes>"
      ]
     },
     "metadata": {
      "needs_background": "light"
     },
     "output_type": "display_data"
    }
   ],
   "source": [
    "plt.figure(figsize=(12, 6))\n",
    "ax = sns.distplot(df_2018.sale_amount, bins=100, kde=False, rug=True, axlabel='Sale Amount', color='green')\n",
    "plt.ticklabel_format(style='plain', axis='x')\n",
    "ax.xaxis.set_major_formatter(mpl.ticker.StrMethodFormatter('{x:,.0f}'))\n",
    "plt.ylabel('Number of Transactions')\n",
    "plt.title('Distribution of Sale Amount')\n",
    "plt.show()"
   ]
  },
  {
   "cell_type": "markdown",
   "metadata": {},
   "source": [
    "what is the average sale price by commission plan?"
   ]
  },
  {
   "cell_type": "code",
   "execution_count": 53,
   "metadata": {
    "ExecuteTime": {
     "end_time": "2019-06-12T11:36:38.165764Z",
     "start_time": "2019-06-12T11:36:38.045747Z"
    }
   },
   "outputs": [
    {
     "data": {
      "image/png": "[encoded data removed]",
      "text/plain": [
       "<Figure size 720x432 with 1 Axes>"
      ]
     },
     "metadata": {
      "needs_background": "light"
     },
     "output_type": "display_data"
    }
   ],
   "source": [
    "plt.figure(figsize=(10, 6))\n",
    "num_agents_per_com_strategy = df_2018.groupby('com_plan')['sale_amount'].mean()\n",
    "ax = sns.barplot(x=num_agents_per_com_strategy.index, y=num_agents_per_com_strategy, color='green')\n",
    "plt.ticklabel_format(style='plain', axis='y')\n",
    "ax.yaxis.set_major_formatter(mpl.ticker.StrMethodFormatter('{x:,.0f}'))\n",
    "plt.xlabel(\"Commission Strategy\")\n",
    "plt.ylabel(\"Price\")\n",
    "plt.title(\"Average Sale Price by Commission Strategy\")\n",
    "plt.show()"
   ]
  },
  {
   "cell_type": "markdown",
   "metadata": {},
   "source": [
    "How many agents are using the commission plans?"
   ]
  },
  {
   "cell_type": "code",
   "execution_count": 54,
   "metadata": {
    "ExecuteTime": {
     "end_time": "2019-06-12T11:36:38.172942Z",
     "start_time": "2019-06-12T11:36:38.167252Z"
    }
   },
   "outputs": [
    {
     "data": {
      "text/plain": [
       "com_plan\n",
       "Accumulation Strategy    3255\n",
       "Flat Rate Strategy         95\n",
       "Name: agent_id, dtype: int64"
      ]
     },
     "execution_count": 54,
     "metadata": {},
     "output_type": "execute_result"
    }
   ],
   "source": [
    "df_2018.groupby('com_plan')['agent_id'].count()"
   ]
  },
  {
   "cell_type": "markdown",
   "metadata": {},
   "source": [
    "**There's so few flat rate that it's pointless to make a feature out of this.**"
   ]
  },
  {
   "cell_type": "markdown",
   "metadata": {},
   "source": [
    "How do total sales look by month?"
   ]
  },
  {
   "cell_type": "code",
   "execution_count": 55,
   "metadata": {
    "ExecuteTime": {
     "end_time": "2019-06-12T11:36:38.406926Z",
     "start_time": "2019-06-12T11:36:38.174304Z"
    }
   },
   "outputs": [
    {
     "data": {
      "image/png": "[encoded data removed]",
      "text/plain": [
       "<Figure size 1080x720 with 1 Axes>"
      ]
     },
     "metadata": {
      "needs_background": "light"
     },
     "output_type": "display_data"
    }
   ],
   "source": [
    "plt.figure(figsize=(15,10))\n",
    "df.groupby(['sale_month', 'sale_year'])['sale_amount'].sum().plot.bar()\n",
    "plt.show()"
   ]
  },
  {
   "cell_type": "markdown",
   "metadata": {},
   "source": [
    "We only have some of June 2019's data, and we excluded January 2018's data for incompleteness."
   ]
  },
  {
   "cell_type": "markdown",
   "metadata": {},
   "source": [
    "Which side of the transaction makes the most money here?"
   ]
  },
  {
   "cell_type": "code",
   "execution_count": 56,
   "metadata": {
    "ExecuteTime": {
     "end_time": "2019-06-12T11:36:38.579329Z",
     "start_time": "2019-06-12T11:36:38.408652Z"
    }
   },
   "outputs": [
    {
     "data": {
      "image/png": "[encoded data removed]",
      "text/plain": [
       "<Figure size 720x432 with 1 Axes>"
      ]
     },
     "metadata": {
      "needs_background": "light"
     },
     "output_type": "display_data"
    }
   ],
   "source": [
    "avg_sale_by_side = df.groupby('trans_side')['sale_amount'].mean()\n",
    "\n",
    "plt.figure(figsize=(10, 6))\n",
    "ax = sns.barplot(x=avg_sale_by_side.index, y=avg_sale_by_side)\n",
    "plt.ticklabel_format(style='plain', axis='y')\n",
    "ax.yaxis.set_major_formatter(mpl.ticker.StrMethodFormatter('{x:,.0f}'))\n",
    "plt.xlabel(\"Transaction Side\")\n",
    "plt.ylabel(\"Sale Amount\")\n",
    "plt.title(\"Mean Sale Price by Transaction Side\")\n",
    "plt.show()"
   ]
  },
  {
   "cell_type": "markdown",
   "metadata": {},
   "source": [
    "What is the average commission based on the commission plan?"
   ]
  },
  {
   "cell_type": "code",
   "execution_count": 57,
   "metadata": {
    "ExecuteTime": {
     "end_time": "2019-06-12T11:36:38.707547Z",
     "start_time": "2019-06-12T11:36:38.581264Z"
    }
   },
   "outputs": [
    {
     "data": {
      "image/png": "[encoded data removed]",
      "text/plain": [
       "<Figure size 720x432 with 1 Axes>"
      ]
     },
     "metadata": {
      "needs_background": "light"
     },
     "output_type": "display_data"
    }
   ],
   "source": [
    "avg_com_by_plan = df.groupby('com_plan')['com_gross'].mean()\n",
    "\n",
    "plt.figure(figsize=(10, 6))\n",
    "ax = sns.barplot(x=avg_com_by_plan.index, y=avg_com_by_plan)\n",
    "plt.ticklabel_format(style='plain', axis='y')\n",
    "ax.yaxis.set_major_formatter(mpl.ticker.StrMethodFormatter('{x:,.0f}'))\n",
    "plt.xlabel(\"Commission Plan\")\n",
    "plt.ylabel(\"Commission Amount\")\n",
    "plt.title(\"Mean Commission Amount by Commission Plan\")\n",
    "plt.show()"
   ]
  },
  {
   "cell_type": "markdown",
   "metadata": {},
   "source": [
    "What commission plan takes more of the sale amount?"
   ]
  },
  {
   "cell_type": "code",
   "execution_count": 58,
   "metadata": {
    "ExecuteTime": {
     "end_time": "2019-06-12T11:36:38.716136Z",
     "start_time": "2019-06-12T11:36:38.709488Z"
    }
   },
   "outputs": [
    {
     "data": {
      "text/plain": [
       "com_plan\n",
       "Accumulation Strategy   0.03\n",
       "Flat Rate Strategy      0.02\n",
       "dtype: float64"
      ]
     },
     "execution_count": 58,
     "metadata": {},
     "output_type": "execute_result"
    }
   ],
   "source": [
    "df.groupby('com_plan')['com_gross'].sum() / df.groupby('com_plan')['sale_amount'].sum()"
   ]
  },
  {
   "cell_type": "markdown",
   "metadata": {},
   "source": [
    "Accumulation strategy"
   ]
  },
  {
   "cell_type": "markdown",
   "metadata": {},
   "source": [
    "### Feature Engineering"
   ]
  },
  {
   "cell_type": "markdown",
   "metadata": {},
   "source": [
    "#### Commission Strategy\n",
    "Find the most common commission strategy for each agent"
   ]
  },
  {
   "cell_type": "code",
   "execution_count": 59,
   "metadata": {
    "ExecuteTime": {
     "end_time": "2019-06-12T11:36:38.880027Z",
     "start_time": "2019-06-12T11:36:38.717557Z"
    }
   },
   "outputs": [],
   "source": [
    "for row in agent_df.iterrows():\n",
    "    i = row[0]\n",
    "    ser = row[1]\n",
    "    D = dict(accum_strategy=ser.accum_strategy, flat_strategy=ser.flat_strategy)\n",
    "    com_plan_sorted = sorted(D.items(), key=operator.itemgetter(1), reverse=True)\n",
    "    agent_df.loc[i, 'com_plan_mode'] = com_plan_sorted[0][0]"
   ]
  },
  {
   "cell_type": "code",
   "execution_count": 60,
   "metadata": {
    "ExecuteTime": {
     "end_time": "2019-06-12T11:36:38.886471Z",
     "start_time": "2019-06-12T11:36:38.881575Z"
    }
   },
   "outputs": [
    {
     "data": {
      "text/plain": [
       "accum_strategy    303\n",
       "flat_strategy       7\n",
       "Name: com_plan_mode, dtype: int64"
      ]
     },
     "execution_count": 60,
     "metadata": {},
     "output_type": "execute_result"
    }
   ],
   "source": [
    "agent_df.com_plan_mode.value_counts()"
   ]
  },
  {
   "cell_type": "markdown",
   "metadata": {
    "ExecuteTime": {
     "end_time": "2019-06-05T20:49:28.492851Z",
     "start_time": "2019-06-05T20:49:28.489355Z"
    }
   },
   "source": [
    "Almost every agent at this brokerage is on the accumulation strategy so this distinction is not helpful at all."
   ]
  },
  {
   "cell_type": "markdown",
   "metadata": {},
   "source": [
    "#### Add number of ZIP codes each agent sells in"
   ]
  },
  {
   "cell_type": "code",
   "execution_count": 61,
   "metadata": {
    "ExecuteTime": {
     "end_time": "2019-06-12T11:36:38.893897Z",
     "start_time": "2019-06-12T11:36:38.887927Z"
    }
   },
   "outputs": [],
   "source": [
    "agent_df['number_of_zips'] = df_2018.groupby('agent_id')['zip'].nunique()\n",
    "agent_df.number_of_zips.fillna(1, inplace=True)"
   ]
  },
  {
   "cell_type": "markdown",
   "metadata": {},
   "source": [
    "#### Year over year difference in total sales\n",
    "\n",
    "What is the median percentage difference in total sales per agent from Feb-May 2018 to Feb-May 2019?\n",
    "This number will be used to adjust the $5 million threshold by 2019's price gains."
   ]
  },
  {
   "cell_type": "code",
   "execution_count": 62,
   "metadata": {
    "ExecuteTime": {
     "end_time": "2019-06-12T11:36:38.904392Z",
     "start_time": "2019-06-12T11:36:38.895327Z"
    }
   },
   "outputs": [],
   "source": [
    "df_feb_may_2018 = df[(df.sale_date >= \"2018-02-01\") & (df.sale_date < \"2018-06-01\")][[\"agent_id\", \"sale_amount\"]]\n",
    "df_feb_may_2019 = df[(df.sale_date >= \"2019-02-01\") & (df.sale_date < \"2019-06-01\")][[\"agent_id\", \"sale_amount\"]]"
   ]
  },
  {
   "cell_type": "code",
   "execution_count": 63,
   "metadata": {
    "ExecuteTime": {
     "end_time": "2019-06-12T11:36:38.917995Z",
     "start_time": "2019-06-12T11:36:38.905856Z"
    }
   },
   "outputs": [
    {
     "data": {
      "text/plain": [
       "0.14145189516527956"
      ]
     },
     "execution_count": 63,
     "metadata": {},
     "output_type": "execute_result"
    }
   ],
   "source": [
    "df_year_diff = pd.merge(df_feb_may_2018, df_feb_may_2019, how=\"inner\", on=\"agent_id\", suffixes=(\"_2018\", \"_2019\"))\n",
    "df_year_diff = df_year_diff.groupby(\"agent_id\")[[\"sale_amount_2018\", \"sale_amount_2019\"]].sum()\n",
    "df_year_diff = df_year_diff.assign(year_diff=(df_year_diff.sale_amount_2019 - df_year_diff.sale_amount_2018) / df_year_diff.sale_amount_2018)\n",
    "df_year_diff.year_diff.median()"
   ]
  },
  {
   "cell_type": "markdown",
   "metadata": {},
   "source": [
    "#### Calculate High Performance Threshold for Feb - May 2019\n",
    "\n",
    "What percent of 2018's total sales are Q1 and Q2 (excluding January because of its bad data)"
   ]
  },
  {
   "cell_type": "code",
   "execution_count": 64,
   "metadata": {
    "ExecuteTime": {
     "end_time": "2019-06-12T11:36:38.928864Z",
     "start_time": "2019-06-12T11:36:38.919465Z"
    }
   },
   "outputs": [],
   "source": [
    "total_sales_feb_may_2018 = df[(df['sale_date'] > '2018-01-31') & (df['sale_date'] < '2018-06-01')]['sale_amount'].sum()\n",
    "total_sales_2018 = df[(df['sale_date'] > '2018-01-31') & (df['sale_date'] < '2019-01-01')]['sale_amount'].sum()"
   ]
  },
  {
   "cell_type": "code",
   "execution_count": 65,
   "metadata": {
    "ExecuteTime": {
     "end_time": "2019-06-12T11:36:38.932772Z",
     "start_time": "2019-06-12T11:36:38.930378Z"
    }
   },
   "outputs": [],
   "source": [
    "high_perf_thresh = (total_sales_feb_may_2018 / total_sales_2018) * 5_000_000 * 1.14"
   ]
  },
  {
   "cell_type": "markdown",
   "metadata": {},
   "source": [
    "Calculate the total sales for each agent for Feb. through May 2019 (excluding January)"
   ]
  },
  {
   "cell_type": "code",
   "execution_count": 66,
   "metadata": {
    "ExecuteTime": {
     "end_time": "2019-06-12T11:36:38.941200Z",
     "start_time": "2019-06-12T11:36:38.934319Z"
    }
   },
   "outputs": [],
   "source": [
    "agent_df['sales_sum_2019'] = df[(df['sale_date'] > '2019-01-31') & (df['sale_date'] < '2019-06-01')].groupby('agent_id')['sale_amount'].sum()"
   ]
  },
  {
   "cell_type": "markdown",
   "metadata": {},
   "source": [
    "Setting y to be the predicted"
   ]
  },
  {
   "cell_type": "code",
   "execution_count": 67,
   "metadata": {
    "ExecuteTime": {
     "end_time": "2019-06-12T11:36:38.949327Z",
     "start_time": "2019-06-12T11:36:38.942712Z"
    }
   },
   "outputs": [],
   "source": [
    "agent_df['y'] = (agent_df['sales_sum_2019'] > high_perf_thresh)\n",
    "agent_df.dropna(subset=['sales_sum_2019'], inplace=True)"
   ]
  },
  {
   "cell_type": "markdown",
   "metadata": {},
   "source": [
    "#### Unique ZIP Codes per Agent"
   ]
  },
  {
   "cell_type": "code",
   "execution_count": 68,
   "metadata": {
    "ExecuteTime": {
     "end_time": "2019-06-12T11:36:38.956673Z",
     "start_time": "2019-06-12T11:36:38.950858Z"
    }
   },
   "outputs": [],
   "source": [
    "agent_df['number_of_zips'] = df.groupby('agent_id')['zip'].nunique()\n",
    "agent_df.number_of_zips.fillna(1, inplace=True)"
   ]
  },
  {
   "cell_type": "code",
   "execution_count": 69,
   "metadata": {
    "ExecuteTime": {
     "end_time": "2019-06-12T11:36:39.159181Z",
     "start_time": "2019-06-12T11:36:38.958173Z"
    }
   },
   "outputs": [
    {
     "data": {
      "image/png": "[encoded data removed]",
      "text/plain": [
       "<Figure size 720x432 with 1 Axes>"
      ]
     },
     "metadata": {
      "needs_background": "light"
     },
     "output_type": "display_data"
    }
   ],
   "source": [
    "plt.figure(figsize=(10, 6))\n",
    "sns.scatterplot(x='sum_sales', y='number_of_zips', hue='y', data=agent_df, alpha=0.5)\n",
    "plt.xlabel(\"Sales Volume\")\n",
    "plt.ylabel(\"Number of Unique ZIP Codes\")\n",
    "plt.title(\"Agents' Number of Unique ZIP Codes Sold In According to Sales Volume\")\n",
    "plt.show()"
   ]
  },
  {
   "cell_type": "markdown",
   "metadata": {},
   "source": [
    "#### Agent cut v. Brokerage cut\n",
    "More experienced/successful agents tend to take a larger percentage of the commission"
   ]
  },
  {
   "cell_type": "code",
   "execution_count": 70,
   "metadata": {
    "ExecuteTime": {
     "end_time": "2019-06-12T11:36:39.164694Z",
     "start_time": "2019-06-12T11:36:39.160574Z"
    }
   },
   "outputs": [],
   "source": [
    "agent_df = agent_df.assign(agent_com_share=agent_df.sum_agent_com / (agent_df.sum_agent_com + agent_df.sum_brokerage_com))"
   ]
  },
  {
   "cell_type": "markdown",
   "metadata": {},
   "source": [
    "Average agent share of commission per quintile"
   ]
  },
  {
   "cell_type": "code",
   "execution_count": 71,
   "metadata": {
    "ExecuteTime": {
     "end_time": "2019-06-12T11:36:39.301943Z",
     "start_time": "2019-06-12T11:36:39.166162Z"
    }
   },
   "outputs": [
    {
     "data": {
      "image/png": "[encoded data removed]",
      "text/plain": [
       "<Figure size 720x432 with 1 Axes>"
      ]
     },
     "metadata": {
      "needs_background": "light"
     },
     "output_type": "display_data"
    }
   ],
   "source": [
    "com_share_by_quintile = agent_df.groupby(\"quintile\")[\"agent_com_share\"].mean()\n",
    "\n",
    "plt.figure(figsize=(10, 6))\n",
    "ax = sns.barplot(x=com_share_by_quintile.index, y=com_share_by_quintile)\n",
    "plt.xlabel(\"Quintile\")\n",
    "plt.ylabel(\"Commission Share\")\n",
    "plt.title(\"Agents' Mean Share of Commissions by Sales Volume Quintile\")\n",
    "plt.show()"
   ]
  },
  {
   "cell_type": "code",
   "execution_count": 72,
   "metadata": {
    "ExecuteTime": {
     "end_time": "2019-06-12T11:36:39.494353Z",
     "start_time": "2019-06-12T11:36:39.303665Z"
    }
   },
   "outputs": [
    {
     "data": {
      "image/png": "[encoded data removed]",
      "text/plain": [
       "<Figure size 720x432 with 1 Axes>"
      ]
     },
     "metadata": {
      "needs_background": "light"
     },
     "output_type": "display_data"
    }
   ],
   "source": [
    "plt.figure(figsize=(10, 6))\n",
    "sns.scatterplot(x=agent_df.sum_sales, y=agent_df.agent_com_share, hue=agent_df.y, alpha=0.5)\n",
    "plt.xlabel('Sales Volume')\n",
    "plt.ylabel('Commission Share')\n",
    "plt.title(\"Agents' Share of Commissions by Sales Volume\")\n",
    "plt.show()"
   ]
  },
  {
   "cell_type": "markdown",
   "metadata": {},
   "source": [
    "Some agents' share is above 1.0 because the brokerage's commission was negative. This means the brokerage likely got its proceeds from the sale somewhere else."
   ]
  },
  {
   "cell_type": "markdown",
   "metadata": {},
   "source": [
    "#### Number of Top ZIP Codes in Agent's Market"
   ]
  },
  {
   "cell_type": "markdown",
   "metadata": {},
   "source": [
    "How many zip codes have they sold in with a median home price in the top 20 percent of zip codes?"
   ]
  },
  {
   "cell_type": "code",
   "execution_count": 73,
   "metadata": {
    "ExecuteTime": {
     "end_time": "2019-06-12T11:36:39.537177Z",
     "start_time": "2019-06-12T11:36:39.495691Z"
    }
   },
   "outputs": [],
   "source": [
    "med_sale_by_zip = (df_2018.groupby(\"zip\")['sale_amount']\n",
    "                          .agg(['median', 'count']))\n",
    "top_zips = med_sale_by_zip[med_sale_by_zip['median'] > med_sale_by_zip['median'].quantile(0.8)].index.values\n",
    "df_2018 = df_2018.assign(top_zip=df_2018.zip.apply(lambda z: z in top_zips))\n",
    "num_top_zip_by_agent = df_2018.groupby(\"agent_id\")[['top_zip']].sum()\n",
    "agent_df = pd.merge(agent_df, num_top_zip_by_agent, how='inner', on='agent_id')"
   ]
  },
  {
   "cell_type": "code",
   "execution_count": 74,
   "metadata": {
    "ExecuteTime": {
     "end_time": "2019-06-12T11:36:39.725291Z",
     "start_time": "2019-06-12T11:36:39.538834Z"
    }
   },
   "outputs": [
    {
     "data": {
      "image/png": "[encoded data removed]",
      "text/plain": [
       "<Figure size 720x432 with 1 Axes>"
      ]
     },
     "metadata": {
      "needs_background": "light"
     },
     "output_type": "display_data"
    }
   ],
   "source": [
    "plt.figure(figsize=(10, 6))\n",
    "sns.scatterplot(x='sum_sales', y='top_zip', hue='y', data=agent_df, alpha=0.5)\n",
    "plt.xlabel('Sales Volume')\n",
    "plt.ylabel('Number of ZIP Codes')\n",
    "plt.title(\"Agents' Number of High-priced ZIP Codes according to Sales Volume\")\n",
    "plt.show()"
   ]
  },
  {
   "cell_type": "markdown",
   "metadata": {},
   "source": [
    "**This is not a good feature. There are too many high performers that do not have many sales in the top ZIP codes in terms of sale price. The high-priced ZIPs are probably concentrated in specific cities and are not capturing agents' who sell elsewhere.**"
   ]
  },
  {
   "cell_type": "markdown",
   "metadata": {},
   "source": [
    "### Proceeds"
   ]
  },
  {
   "cell_type": "markdown",
   "metadata": {},
   "source": [
    "Add column containing commission rate for each transaction"
   ]
  },
  {
   "cell_type": "code",
   "execution_count": 75,
   "metadata": {
    "ExecuteTime": {
     "end_time": "2019-06-12T11:36:39.769457Z",
     "start_time": "2019-06-12T11:36:39.726769Z"
    }
   },
   "outputs": [],
   "source": [
    "df['com_rate'] = df.com_gross / df.sale_amount"
   ]
  },
  {
   "cell_type": "markdown",
   "metadata": {},
   "source": [
    "What is the average commission rate for each commission plan?"
   ]
  },
  {
   "cell_type": "code",
   "execution_count": 76,
   "metadata": {
    "ExecuteTime": {
     "end_time": "2019-06-12T11:36:39.777505Z",
     "start_time": "2019-06-12T11:36:39.771253Z"
    }
   },
   "outputs": [
    {
     "data": {
      "text/plain": [
       "com_plan\n",
       "Accumulation Strategy   2.71\n",
       "Flat Rate Strategy      4.19\n",
       "Name: com_rate, dtype: float64"
      ]
     },
     "execution_count": 76,
     "metadata": {},
     "output_type": "execute_result"
    }
   ],
   "source": [
    "df.groupby('com_plan')['com_rate'].mean()*100"
   ]
  },
  {
   "cell_type": "markdown",
   "metadata": {},
   "source": [
    "A higher share of the price for sales completed under a flat rate strategy go to agents and the brokerage."
   ]
  },
  {
   "cell_type": "markdown",
   "metadata": {},
   "source": [
    "### Statistical Tests"
   ]
  },
  {
   "cell_type": "code",
   "execution_count": 77,
   "metadata": {
    "ExecuteTime": {
     "end_time": "2019-06-12T11:36:39.785614Z",
     "start_time": "2019-06-12T11:36:39.779087Z"
    }
   },
   "outputs": [
    {
     "name": "stdout",
     "output_type": "stream",
     "text": [
      "T-stat: 8.078900266688901\n",
      "p-val: 3.678798368229928e-14\n"
     ]
    }
   ],
   "source": [
    "t_stat, p_val = stats.ttest_ind(agent_df[agent_df.y].trans_count, agent_df[~agent_df.y].trans_count)\n",
    "print(f\"T-stat: {t_stat}\\np-val: {p_val}\")"
   ]
  },
  {
   "cell_type": "markdown",
   "metadata": {},
   "source": [
    "We would reject the null hypothesis that there is not a significant difference in number of transactions completed between high performers and non-high performers."
   ]
  },
  {
   "cell_type": "code",
   "execution_count": 78,
   "metadata": {
    "ExecuteTime": {
     "end_time": "2019-06-12T11:36:39.793265Z",
     "start_time": "2019-06-12T11:36:39.787302Z"
    }
   },
   "outputs": [
    {
     "name": "stdout",
     "output_type": "stream",
     "text": [
      "T-stat: 8.440668682106965\n",
      "p-val: 3.55448264484477e-15\n"
     ]
    }
   ],
   "source": [
    "t_stat, p_val = stats.ttest_ind(agent_df[agent_df.y].number_of_zips, agent_df[~agent_df.y].number_of_zips)\n",
    "print(f\"T-stat: {t_stat}\\np-val: {p_val}\")"
   ]
  },
  {
   "cell_type": "markdown",
   "metadata": {},
   "source": [
    "We would reject the null hypothesis that there is not a significant difference in number of unique ZIP codes in market between high performers and non-high performers."
   ]
  },
  {
   "cell_type": "markdown",
   "metadata": {},
   "source": [
    "## Modeling"
   ]
  },
  {
   "cell_type": "code",
   "execution_count": 79,
   "metadata": {
    "ExecuteTime": {
     "end_time": "2019-06-12T11:36:39.800158Z",
     "start_time": "2019-06-12T11:36:39.794861Z"
    }
   },
   "outputs": [
    {
     "data": {
      "text/plain": [
       "y\n",
       "False   0.56\n",
       "True    0.44\n",
       "Name: y, dtype: float64"
      ]
     },
     "execution_count": 79,
     "metadata": {},
     "output_type": "execute_result"
    }
   ],
   "source": [
    "agent_df.groupby('y')['y'].count() / len(agent_df)"
   ]
  },
  {
   "cell_type": "markdown",
   "metadata": {},
   "source": [
    "The classes are sufficiently balanced."
   ]
  },
  {
   "cell_type": "markdown",
   "metadata": {},
   "source": [
    "### Encoding Columns"
   ]
  },
  {
   "cell_type": "code",
   "execution_count": 80,
   "metadata": {
    "ExecuteTime": {
     "end_time": "2019-06-12T11:36:39.805337Z",
     "start_time": "2019-06-12T11:36:39.801481Z"
    }
   },
   "outputs": [],
   "source": [
    "for col in ('quintile',):\n",
    "    le = LabelEncoder().fit(agent_df[col])\n",
    "    label_encoders[col] = le\n",
    "    agent_df[col] = le.transform(agent_df[col])"
   ]
  },
  {
   "cell_type": "markdown",
   "metadata": {},
   "source": [
    "### Feature Selection"
   ]
  },
  {
   "cell_type": "code",
   "execution_count": 81,
   "metadata": {
    "ExecuteTime": {
     "end_time": "2019-06-12T11:36:39.809449Z",
     "start_time": "2019-06-12T11:36:39.806962Z"
    }
   },
   "outputs": [],
   "source": [
    "features = ['trans_count', 'sum_sales', 'number_of_zips']"
   ]
  },
  {
   "cell_type": "markdown",
   "metadata": {},
   "source": [
    "### Train Test Split"
   ]
  },
  {
   "cell_type": "code",
   "execution_count": 82,
   "metadata": {
    "ExecuteTime": {
     "end_time": "2019-06-12T11:36:39.817285Z",
     "start_time": "2019-06-12T11:36:39.810921Z"
    },
    "lines_to_end_of_cell_marker": 2
   },
   "outputs": [],
   "source": [
    "X = agent_df[features]\n",
    "y = agent_df['y']\n",
    "\n",
    "X_train, X_test, y_train, y_test = train_test_split(X, y, stratify=agent_df.y, test_size = .2, random_state = 47)"
   ]
  },
  {
   "cell_type": "markdown",
   "metadata": {},
   "source": [
    "### Scale"
   ]
  },
  {
   "cell_type": "code",
   "execution_count": 83,
   "metadata": {
    "ExecuteTime": {
     "end_time": "2019-06-12T11:36:39.821469Z",
     "start_time": "2019-06-12T11:36:39.819140Z"
    }
   },
   "outputs": [],
   "source": [
    "# Commented out to get a better visualization of the decision tree and for outputting model for web app\n",
    "\n",
    "# scaler = RobustScaler().fit(X_train[['trans_count']])\n",
    "# X_train[['trans_count']] = scaler.transform(X_train[['trans_count']])\n",
    "# X_test[['trans_count']] = scaler.transform(X_test[['trans_count']])"
   ]
  },
  {
   "cell_type": "code",
   "execution_count": 84,
   "metadata": {
    "ExecuteTime": {
     "end_time": "2019-06-12T11:36:39.824942Z",
     "start_time": "2019-06-12T11:36:39.823153Z"
    }
   },
   "outputs": [],
   "source": [
    "# scaler = RobustScaler().fit(X_train[['sum_sales']])\n",
    "# X_train[['sum_sales']] = scaler.transform(X_train[['sum_sales']])\n",
    "# X_test[['sum_sales']] = scaler.transform(X_test[['sum_sales']])"
   ]
  },
  {
   "cell_type": "code",
   "execution_count": 85,
   "metadata": {
    "ExecuteTime": {
     "end_time": "2019-06-12T11:36:39.828734Z",
     "start_time": "2019-06-12T11:36:39.826585Z"
    }
   },
   "outputs": [],
   "source": [
    "# scaler = RobustScaler().fit(X_train[['number_of_zips']])\n",
    "# X_train[['number_of_zips']] = scaler.transform(X_train[['number_of_zips']])\n",
    "# X_test[['number_of_zips']] = scaler.transform(X_test[['number_of_zips']])"
   ]
  },
  {
   "cell_type": "markdown",
   "metadata": {},
   "source": [
    "### Cross Validation"
   ]
  },
  {
   "cell_type": "markdown",
   "metadata": {},
   "source": [
    "#### Logistic Regression"
   ]
  },
  {
   "cell_type": "markdown",
   "metadata": {},
   "source": [
    "No hyperparameter tuning"
   ]
  },
  {
   "cell_type": "code",
   "execution_count": 86,
   "metadata": {
    "ExecuteTime": {
     "end_time": "2019-06-12T11:36:39.880156Z",
     "start_time": "2019-06-12T11:36:39.830397Z"
    }
   },
   "outputs": [
    {
     "name": "stdout",
     "output_type": "stream",
     "text": [
      "Accuracy: 0.43786356425171863\n",
      "Recall: 1.0\n",
      "Precision: 0.43786356425171863\n",
      "F1: 0.6090398365679265\n"
     ]
    }
   ],
   "source": [
    "logit = LogisticRegression(random_state=123)\n",
    "\n",
    "print('Accuracy:', cross_val_score(logit, X_train, y_train, cv=3).mean())\n",
    "print('Recall:', cross_val_score(logit, X_train, y_train, cv=3, scoring='recall').mean())\n",
    "print('Precision:', cross_val_score(logit, X_train, y_train, cv=3, scoring='precision').mean())\n",
    "print('F1:', cross_val_score(logit, X_train, y_train, cv=3, scoring='f1').mean())"
   ]
  },
  {
   "cell_type": "markdown",
   "metadata": {},
   "source": [
    "#### Decision Tree"
   ]
  },
  {
   "cell_type": "markdown",
   "metadata": {},
   "source": [
    "No hyperparameter tuning"
   ]
  },
  {
   "cell_type": "code",
   "execution_count": 87,
   "metadata": {
    "ExecuteTime": {
     "end_time": "2019-06-12T11:36:39.926563Z",
     "start_time": "2019-06-12T11:36:39.881641Z"
    }
   },
   "outputs": [
    {
     "name": "stdout",
     "output_type": "stream",
     "text": [
      "Accuracy: 0.7136435748281333\n",
      "Recall: 0.6419753086419753\n",
      "Precision: 0.6838244514106583\n",
      "F1: 0.6601255886970172\n"
     ]
    }
   ],
   "source": [
    "tree = DecisionTreeClassifier(random_state=123)\n",
    "\n",
    "print('Accuracy:', cross_val_score(tree, X_train, y_train, cv=3).mean())\n",
    "print('Recall:', cross_val_score(tree, X_train, y_train, cv=3, scoring='recall').mean())\n",
    "print('Precision:', cross_val_score(tree, X_train, y_train, cv=3, scoring='precision').mean())\n",
    "print('F1:', cross_val_score(tree, X_train, y_train, cv=3, scoring='f1').mean())"
   ]
  },
  {
   "cell_type": "markdown",
   "metadata": {},
   "source": [
    "Hyperparameter tuning"
   ]
  },
  {
   "cell_type": "code",
   "execution_count": 88,
   "metadata": {
    "ExecuteTime": {
     "end_time": "2019-06-12T11:36:39.982092Z",
     "start_time": "2019-06-12T11:36:39.934831Z"
    }
   },
   "outputs": [
    {
     "name": "stdout",
     "output_type": "stream",
     "text": [
      "Accuracy: 0.7730477701392561\n",
      "Recall: 0.7901234567901234\n",
      "Precision: 0.721853257432005\n",
      "F1: 0.7504627628326627\n"
     ]
    }
   ],
   "source": [
    "tree = DecisionTreeClassifier(random_state=123, max_depth=3, class_weight='balanced')\n",
    "\n",
    "print('Accuracy:', cross_val_score(tree, X_train, y_train, cv=3).mean())\n",
    "print('Recall:', cross_val_score(tree, X_train, y_train, cv=3, scoring='recall').mean())\n",
    "print('Precision:', cross_val_score(tree, X_train, y_train, cv=3, scoring='precision').mean())\n",
    "print('F1:', cross_val_score(tree, X_train, y_train, cv=3, scoring='f1').mean())"
   ]
  },
  {
   "cell_type": "markdown",
   "metadata": {},
   "source": [
    "Fit to training set"
   ]
  },
  {
   "cell_type": "code",
   "execution_count": 89,
   "metadata": {
    "ExecuteTime": {
     "end_time": "2019-06-12T11:36:39.994611Z",
     "start_time": "2019-06-12T11:36:39.983617Z"
    }
   },
   "outputs": [
    {
     "name": "stdout",
     "output_type": "stream",
     "text": [
      "Accuracy of Decision Tree classifier on training set: 0.82\n",
      "---\n",
      "              precision    recall  f1-score   support\n",
      "\n",
      "       False       0.92      0.75      0.83       104\n",
      "        True       0.74      0.91      0.82        81\n",
      "\n",
      "   micro avg       0.82      0.82      0.82       185\n",
      "   macro avg       0.83      0.83      0.82       185\n",
      "weighted avg       0.84      0.82      0.82       185\n",
      "\n",
      "---\n"
     ]
    }
   ],
   "source": [
    "tree.fit(X_train, y_train)\n",
    "y_pred = tree.predict(X_train)\n",
    "y_pred_proba = tree.predict_proba(X_train)\n",
    "\n",
    "print('Accuracy of Decision Tree classifier on training set: {:.2f}'\n",
    " .format(tree.score(X_train, y_train)))\n",
    "print('---')\n",
    "print(classification_report(y_train, y_pred))\n",
    "print('---')"
   ]
  },
  {
   "cell_type": "markdown",
   "metadata": {},
   "source": [
    "What do the false negatives look like?"
   ]
  },
  {
   "cell_type": "code",
   "execution_count": 90,
   "metadata": {
    "ExecuteTime": {
     "end_time": "2019-06-12T11:36:40.006223Z",
     "start_time": "2019-06-12T11:36:39.996074Z"
    }
   },
   "outputs": [
    {
     "data": {
      "text/html": [
       "<div>\n",
       "<style scoped>\n",
       "    .dataframe tbody tr th:only-of-type {\n",
       "        vertical-align: middle;\n",
       "    }\n",
       "\n",
       "    .dataframe tbody tr th {\n",
       "        vertical-align: top;\n",
       "    }\n",
       "\n",
       "    .dataframe thead th {\n",
       "        text-align: right;\n",
       "    }\n",
       "</style>\n",
       "<table border=\"1\" class=\"dataframe\">\n",
       "  <thead>\n",
       "    <tr style=\"text-align: right;\">\n",
       "      <th></th>\n",
       "      <th>trans_count</th>\n",
       "      <th>sum_sales</th>\n",
       "      <th>number_of_zips</th>\n",
       "    </tr>\n",
       "    <tr>\n",
       "      <th>agent_id</th>\n",
       "      <th></th>\n",
       "      <th></th>\n",
       "      <th></th>\n",
       "    </tr>\n",
       "  </thead>\n",
       "  <tbody>\n",
       "    <tr>\n",
       "      <th>1445</th>\n",
       "      <td>2</td>\n",
       "      <td>3000000.00</td>\n",
       "      <td>5</td>\n",
       "    </tr>\n",
       "    <tr>\n",
       "      <th>1226</th>\n",
       "      <td>6</td>\n",
       "      <td>3571000.00</td>\n",
       "      <td>8</td>\n",
       "    </tr>\n",
       "    <tr>\n",
       "      <th>625</th>\n",
       "      <td>4</td>\n",
       "      <td>1877350.00</td>\n",
       "      <td>7</td>\n",
       "    </tr>\n",
       "    <tr>\n",
       "      <th>311</th>\n",
       "      <td>2</td>\n",
       "      <td>3650000.00</td>\n",
       "      <td>3</td>\n",
       "    </tr>\n",
       "    <tr>\n",
       "      <th>263</th>\n",
       "      <td>1</td>\n",
       "      <td>1175000.00</td>\n",
       "      <td>2</td>\n",
       "    </tr>\n",
       "    <tr>\n",
       "      <th>411</th>\n",
       "      <td>4</td>\n",
       "      <td>1210300.00</td>\n",
       "      <td>10</td>\n",
       "    </tr>\n",
       "    <tr>\n",
       "      <th>240</th>\n",
       "      <td>6</td>\n",
       "      <td>3948717.00</td>\n",
       "      <td>5</td>\n",
       "    </tr>\n",
       "  </tbody>\n",
       "</table>\n",
       "</div>"
      ],
      "text/plain": [
       "          trans_count  sum_sales  number_of_zips\n",
       "agent_id                                        \n",
       "1445                2 3000000.00               5\n",
       "1226                6 3571000.00               8\n",
       "625                 4 1877350.00               7\n",
       "311                 2 3650000.00               3\n",
       "263                 1 1175000.00               2\n",
       "411                 4 1210300.00              10\n",
       "240                 6 3948717.00               5"
      ]
     },
     "execution_count": 90,
     "metadata": {},
     "output_type": "execute_result"
    }
   ],
   "source": [
    "ser_pred = pd.Series(y_pred, index=y_train.index, name=\"pred\")\n",
    "tmp = pd.concat([y_train.rename(\"train\"), ser_pred], axis=1)\n",
    "bad_recall = tmp[(tmp.train) & (~tmp.pred)]\n",
    "X_train.loc[bad_recall.index]"
   ]
  },
  {
   "cell_type": "markdown",
   "metadata": {},
   "source": [
    "#### Visualize Model"
   ]
  },
  {
   "cell_type": "code",
   "execution_count": 91,
   "metadata": {
    "ExecuteTime": {
     "end_time": "2019-06-12T11:36:40.020074Z",
     "start_time": "2019-06-12T11:36:40.007690Z"
    }
   },
   "outputs": [],
   "source": [
    "import graphviz\n",
    "from sklearn.tree import export_graphviz\n",
    "\n",
    "class_names = [\"False\", \"True\"]\n",
    "\n",
    "dot = export_graphviz(\n",
    "    tree,\n",
    "    out_file=None,\n",
    "    feature_names=features,\n",
    "    class_names=class_names, # target value names\n",
    "    special_characters=True,\n",
    "    filled=True,             # fill nodes w/ informative colors\n",
    "    impurity=False,          # show impurity at each node\n",
    "    leaves_parallel=True,    # all leaves at the bottom\n",
    "    proportion=False,         # show percentages instead of numbers at each leaf\n",
    "    rotate=False,             # top to bottom\n",
    "    rounded=True,            # rounded boxes and sans-serif font\n",
    ")\n",
    "\n",
    "graph = graphviz.Source(dot, filename='decision_tree_viz', format='png')"
   ]
  },
  {
   "cell_type": "markdown",
   "metadata": {},
   "source": [
    "#### Random Forest"
   ]
  },
  {
   "cell_type": "markdown",
   "metadata": {},
   "source": [
    "No hyperparameter tuning"
   ]
  },
  {
   "cell_type": "code",
   "execution_count": 92,
   "metadata": {
    "ExecuteTime": {
     "end_time": "2019-06-12T11:36:40.157710Z",
     "start_time": "2019-06-12T11:36:40.021832Z"
    }
   },
   "outputs": [
    {
     "name": "stdout",
     "output_type": "stream",
     "text": [
      "Accuracy: 0.7459016393442623\n",
      "Recall: 0.6419753086419753\n",
      "Precision: 0.7439682539682538\n",
      "F1: 0.6882855706385117\n"
     ]
    }
   ],
   "source": [
    "forest = RandomForestClassifier(random_state=123)\n",
    "\n",
    "print('Accuracy:', cross_val_score(forest, X_train, y_train, cv=3).mean())\n",
    "print('Recall:', cross_val_score(forest, X_train, y_train, cv=3, scoring='recall').mean())\n",
    "print('Precision:', cross_val_score(forest, X_train, y_train, cv=3, scoring='precision').mean())\n",
    "print('F1:', cross_val_score(forest, X_train, y_train, cv=3, scoring='f1').mean())"
   ]
  },
  {
   "cell_type": "markdown",
   "metadata": {},
   "source": [
    "Hyperparameter tuning"
   ]
  },
  {
   "cell_type": "code",
   "execution_count": 93,
   "metadata": {
    "ExecuteTime": {
     "end_time": "2019-06-12T11:36:41.021074Z",
     "start_time": "2019-06-12T11:36:40.159425Z"
    }
   },
   "outputs": [
    {
     "name": "stdout",
     "output_type": "stream",
     "text": [
      "Accuracy: 0.7674951524766437\n",
      "Recall: 0.7777777777777777\n",
      "Precision: 0.7168060533651932\n",
      "F1: 0.7454011785530236\n"
     ]
    }
   ],
   "source": [
    "forest = RandomForestClassifier(random_state=123, n_estimators=100, max_depth=3, max_features=3, class_weight='balanced')\n",
    "\n",
    "print('Accuracy:', cross_val_score(forest, X_train, y_train, cv=3).mean())\n",
    "print('Recall:', cross_val_score(forest, X_train, y_train, cv=3, scoring='recall').mean())\n",
    "print('Precision:', cross_val_score(forest, X_train, y_train, cv=3, scoring='precision').mean())\n",
    "print('F1:', cross_val_score(forest, X_train, y_train, cv=3, scoring='f1').mean())"
   ]
  },
  {
   "cell_type": "markdown",
   "metadata": {},
   "source": [
    "#### KNN"
   ]
  },
  {
   "cell_type": "code",
   "execution_count": 94,
   "metadata": {
    "ExecuteTime": {
     "end_time": "2019-06-12T11:36:41.073525Z",
     "start_time": "2019-06-12T11:36:41.022529Z"
    },
    "lines_to_next_cell": 0
   },
   "outputs": [
    {
     "name": "stdout",
     "output_type": "stream",
     "text": [
      "Accuracy: 0.7729596333509606\n",
      "Recall: 0.7407407407407408\n",
      "Precision: 0.7443422852492511\n",
      "F1: 0.7397871434653043\n"
     ]
    }
   ],
   "source": [
    "knn = KNeighborsClassifier()\n",
    "\n",
    "print('Accuracy:', cross_val_score(knn, X_train, y_train, cv=3).mean())\n",
    "print('Recall:', cross_val_score(knn, X_train, y_train, cv=3, scoring='recall').mean())\n",
    "print('Precision:', cross_val_score(knn, X_train, y_train, cv=3, scoring='precision').mean())\n",
    "print('F1:', cross_val_score(knn, X_train, y_train, cv=3, scoring='f1').mean())"
   ]
  },
  {
   "cell_type": "markdown",
   "metadata": {},
   "source": [
    "### Grid Search"
   ]
  },
  {
   "cell_type": "markdown",
   "metadata": {},
   "source": [
    "The code for each learning method is commented out because of it is CPU-intensive. Accordingly, it will not run by default. Uncomment to run."
   ]
  },
  {
   "cell_type": "code",
   "execution_count": 95,
   "metadata": {
    "ExecuteTime": {
     "end_time": "2019-06-12T11:36:41.077138Z",
     "start_time": "2019-06-12T11:36:41.075014Z"
    }
   },
   "outputs": [],
   "source": [
    "metrics = ['accuracy', 'precision', 'recall']"
   ]
  },
  {
   "cell_type": "markdown",
   "metadata": {},
   "source": [
    "#### Logistic Regression"
   ]
  },
  {
   "cell_type": "code",
   "execution_count": 96,
   "metadata": {
    "ExecuteTime": {
     "end_time": "2019-06-12T11:36:41.080866Z",
     "start_time": "2019-06-12T11:36:41.078748Z"
    }
   },
   "outputs": [],
   "source": [
    "# hyperparameters = {\n",
    "#     'class_weight': ['balanced', None],\n",
    "#     'random_state': [47],\n",
    "#     'solver': ['newton-cg', 'lbfgs', 'liblinear', 'sag', 'saga']\n",
    "# }\n",
    "\n",
    "# grid = GridSearchCV(LogisticRegression(), param_grid=hyperparameters, cv=3, scoring=metrics, refit=False, n_jobs=5)\n",
    "# grid.fit(X_train, y_train)\n",
    "\n",
    "# results = grid.cv_results_\n",
    "# accuracies = results['mean_test_accuracy']\n",
    "# precisions = results['mean_test_precision']\n",
    "# recalls = results['mean_test_recall']\n",
    "# params = results['params']\n",
    "\n",
    "# for acc, prec, rec, par in zip(accuracies, precisions, recalls, params):\n",
    "#     par['accuracy'] = acc\n",
    "#     par['precision'] = prec\n",
    "#     par['recall'] = rec\n",
    "\n",
    "# pd.DataFrame(params).sort_values(by=['recall', 'precision'], ascending=False).head()"
   ]
  },
  {
   "cell_type": "markdown",
   "metadata": {},
   "source": [
    "#### Decision Tree"
   ]
  },
  {
   "cell_type": "code",
   "execution_count": 97,
   "metadata": {
    "ExecuteTime": {
     "end_time": "2019-06-12T11:36:41.084823Z",
     "start_time": "2019-06-12T11:36:41.082558Z"
    }
   },
   "outputs": [],
   "source": [
    "# hyperparameters = {\n",
    "#     'criterion': ['gini', 'entropy'],\n",
    "#     'max_depth': list(range(1, 11)),\n",
    "#     'max_features': list(range(1, 5)),\n",
    "#     'min_samples_split': [2, 5, 10, 15, 20, 30],\n",
    "#     'min_samples_leaf': [1, 2, 3, 5, 10, 15, 20],\n",
    "#     'random_state': [47],\n",
    "#     'class_weight': [None, 'balanced']\n",
    "# }\n",
    "\n",
    "# grid = GridSearchCV(DecisionTreeClassifier(), param_grid=hyperparameters, cv=3, scoring=metrics, refit=False, n_jobs=5)\n",
    "# grid.fit(X_train, y_train)\n",
    "\n",
    "# results = grid.cv_results_\n",
    "# accuracies = results['mean_test_accuracy']\n",
    "# precisions = results['mean_test_precision']\n",
    "# recalls = results['mean_test_recall']\n",
    "# params = results['params']\n",
    "\n",
    "# for acc, prec, rec, par in zip(accuracies, precisions, recalls, params):\n",
    "#     par['accuracy'] = acc\n",
    "#     par['precision'] = prec\n",
    "#     par['recall'] = rec\n",
    "\n",
    "# pd.DataFrame(params).sort_values(by=['recall', 'precision'], ascending=False).head()"
   ]
  },
  {
   "cell_type": "markdown",
   "metadata": {},
   "source": [
    "#### Random Forest"
   ]
  },
  {
   "cell_type": "code",
   "execution_count": 98,
   "metadata": {
    "ExecuteTime": {
     "end_time": "2019-06-12T11:36:41.088620Z",
     "start_time": "2019-06-12T11:36:41.086263Z"
    }
   },
   "outputs": [],
   "source": [
    "# hyperparameters = {\n",
    "#     'nestimators': [10, 100]\n",
    "#     'criterion': ['gini', 'entropy'],\n",
    "#     'max_depth': list(range(1, 11)),\n",
    "#     'max_features': list(range(1, 5)),\n",
    "#     'min_samples_split': [2, 5, 10, 15, 20, 30],\n",
    "#     'min_samples_leaf': [1, 2, 3, 5, 10, 15, 20],\n",
    "#     'random_state': [47],\n",
    "#     'class_weight': [None, 'balanced'],\n",
    "# }\n",
    "\n",
    "\n",
    "\n",
    "# grid = GridSearchCV(RandomForestClassifier(), param_grid=hyperparameters, cv=3, scoring=metrics, refit=False, n_jobs=5)\n",
    "# grid.fit(X_train, y_train)\n",
    "\n",
    "# results = grid.cv_results_\n",
    "# accuracies = results['mean_test_accuracy']\n",
    "# precisions = results['mean_test_precision']\n",
    "# recalls = results['mean_test_recall']\n",
    "# params = results['params']\n",
    "\n",
    "# for acc, prec, rec, par in zip(accuracies, precisions, recalls, params):\n",
    "#     par['accuracy'] = acc\n",
    "#     par['precision'] = prec\n",
    "#     par['recall'] = rec\n",
    "\n",
    "# pd.DataFrame(params).sort_values(by=['recall', 'precision'], ascending=False).head()"
   ]
  },
  {
   "cell_type": "markdown",
   "metadata": {},
   "source": [
    "### Final Model"
   ]
  },
  {
   "cell_type": "code",
   "execution_count": 99,
   "metadata": {
    "ExecuteTime": {
     "end_time": "2019-06-12T11:36:41.106626Z",
     "start_time": "2019-06-12T11:36:41.090215Z"
    },
    "endofcell": "--"
   },
   "outputs": [
    {
     "name": "stdout",
     "output_type": "stream",
     "text": [
      "Index(['trans_count', 'sum_sales', 'number_of_zips'], dtype='object')\n",
      "[0.07803816 0.87015022 0.05181162]\n"
     ]
    }
   ],
   "source": [
    "forest = RandomForestClassifier(max_depth=2,\n",
    "                                criterion='entropy',\n",
    "                                max_features=3, \n",
    "                                random_state=123)\n",
    "\n",
    "forest.fit(X_train, y_train)\n",
    "\n",
    "print(X_train.columns)\n",
    "print(forest.feature_importances_)\n",
    "\n",
    "y_pred = forest.predict(X_train)\n",
    "y_pred_test = forest.predict(X_test)"
   ]
  },
  {
   "cell_type": "code",
   "execution_count": 100,
   "metadata": {
    "ExecuteTime": {
     "end_time": "2019-06-12T11:36:41.127995Z",
     "start_time": "2019-06-12T11:36:41.108201Z"
    },
    "endofcell": "--"
   },
   "outputs": [
    {
     "name": "stdout",
     "output_type": "stream",
     "text": [
      "Train\n",
      "------------------------------------------------------------\n",
      "Accuracy of random forest classifier on training set: 0.79\n",
      "------------------------------------------------------------\n",
      "[[81 23]\n",
      " [15 66]]\n",
      "------------------------------------------------------------\n",
      "              precision    recall  f1-score   support\n",
      "\n",
      "       False       0.84      0.78      0.81       104\n",
      "        True       0.74      0.81      0.78        81\n",
      "\n",
      "   micro avg       0.79      0.79      0.79       185\n",
      "   macro avg       0.79      0.80      0.79       185\n",
      "weighted avg       0.80      0.79      0.80       185\n",
      "\n",
      "------------------------------------------------------------\n",
      "Test\n",
      "------------------------------------------------------------\n",
      "Accuracy of random forest classifier on testing set: 0.79\n",
      "------------------------------------------------------------\n",
      "[[21  6]\n",
      " [ 4 16]]\n",
      "------------------------------------------------------------\n",
      "              precision    recall  f1-score   support\n",
      "\n",
      "       False       0.84      0.78      0.81        27\n",
      "        True       0.73      0.80      0.76        20\n",
      "\n",
      "   micro avg       0.79      0.79      0.79        47\n",
      "   macro avg       0.78      0.79      0.78        47\n",
      "weighted avg       0.79      0.79      0.79        47\n",
      "\n",
      "------------------------------------------------------------\n"
     ]
    }
   ],
   "source": [
    "# Performance Metrics\n",
    "\n",
    "print('Train')\n",
    "\n",
    "print('---'*20)\n",
    "\n",
    "print('Accuracy of random forest classifier on training set: {:.2f}'\n",
    "     .format(forest.score(X_train, y_train)))\n",
    "\n",
    "print('---'*20)\n",
    "\n",
    "print(confusion_matrix(y_train, y_pred))\n",
    "\n",
    "print('---'*20)\n",
    "\n",
    "print(classification_report(y_train, y_pred))\n",
    "\n",
    "print('---'*20)\n",
    "\n",
    "# -\n",
    "\n",
    "# ### Modeling Out of Sample Data\n",
    "\n",
    "# +\n",
    "print('Test')\n",
    "\n",
    "print('---'*20)\n",
    "\n",
    "print('Accuracy of random forest classifier on testing set: {:.2f}'\n",
    "     .format(forest.score(X_test, y_test)))\n",
    "\n",
    "print('---'*20)\n",
    "\n",
    "print(confusion_matrix(y_test, y_pred_test))\n",
    "\n",
    "print('---'*20)\n",
    "\n",
    "print(classification_report(y_test, y_pred_test))\n",
    "\n",
    "print('---'*20)\n",
    "# -"
   ]
  },
  {
   "cell_type": "markdown",
   "metadata": {},
   "source": [
    "#### Pickle Model for Web App"
   ]
  },
  {
   "cell_type": "code",
   "execution_count": 101,
   "metadata": {
    "ExecuteTime": {
     "end_time": "2019-06-12T11:36:41.133322Z",
     "start_time": "2019-06-12T11:36:41.129560Z"
    }
   },
   "outputs": [],
   "source": [
    "with open('rf_model_agents.obj', 'wb') as fp:\n",
    "    pickle.dump(forest, fp)"
   ]
  },
  {
   "cell_type": "markdown",
   "metadata": {},
   "source": [
    "#### Test Pickled Model"
   ]
  },
  {
   "cell_type": "code",
   "execution_count": 102,
   "metadata": {
    "ExecuteTime": {
     "end_time": "2019-06-12T11:36:41.143365Z",
     "start_time": "2019-06-12T11:36:41.135167Z"
    }
   },
   "outputs": [
    {
     "name": "stdout",
     "output_type": "stream",
     "text": [
      "Agent is trending to be a $5mil+ agent.\n"
     ]
    }
   ],
   "source": [
    "with open('rf_model_agents.obj', 'rb') as fp:\n",
    "    rf_model_agents = pickle.load(fp)\n",
    "\n",
    "# +\n",
    "agent_cols = features\n",
    "agent_info = [10, 10_000_000, 15]\n",
    "\n",
    "agent_dict = dict(zip(agent_cols, agent_info))\n",
    "agent_info = pd.DataFrame(agent_dict, index=[1])\n",
    "\n",
    "output = rf_model_agents.predict(agent_info)\n",
    "if output[0]:\n",
    "    prediction = 'Agent is trending to be a $5mil+ agent.'\n",
    "else:\n",
    "    prediction = 'Agent is not trending to be a $5mil+ agent.'\n",
    "print(prediction)"
   ]
  }
 ],
 "metadata": {
  "jupytext": {
   "formats": "ipynb,py:light"
  },
  "kernelspec": {
   "display_name": "Python 3",
   "language": "python",
   "name": "python3"
  },
  "language_info": {
   "codemirror_mode": {
    "name": "ipython",
    "version": 3
   },
   "file_extension": ".py",
   "mimetype": "text/x-python",
   "name": "python",
   "nbconvert_exporter": "python",
   "pygments_lexer": "ipython3",
   "version": "3.7.1"
  },
  "toc": {
   "base_numbering": 1,
   "nav_menu": {},
   "number_sections": false,
   "sideBar": true,
   "skip_h1_title": true,
   "title_cell": "Table of Contents",
   "title_sidebar": "Contents",
   "toc_cell": true,
   "toc_position": {
    "height": "calc(100% - 180px)",
    "left": "10px",
    "top": "150px",
    "width": "250px"
   },
   "toc_section_display": true,
   "toc_window_display": true
  },
  "varInspector": {
   "cols": {
    "lenName": 16,
    "lenType": 16,
    "lenVar": 40
   },
   "kernels_config": {
    "python": {
     "delete_cmd_postfix": "",
     "delete_cmd_prefix": "del ",
     "library": "var_list.py",
     "varRefreshCmd": "print(var_dic_list())"
    },
    "r": {
     "delete_cmd_postfix": ") ",
     "delete_cmd_prefix": "rm(",
     "library": "var_list.r",
     "varRefreshCmd": "cat(var_dic_list()) "
    }
   },
   "types_to_exclude": [
    "module",
    "function",
    "builtin_function_or_method",
    "instance",
    "_Feature"
   ],
   "window_display": false
  }
 },
 "nbformat": 4,
 "nbformat_minor": 2
}
